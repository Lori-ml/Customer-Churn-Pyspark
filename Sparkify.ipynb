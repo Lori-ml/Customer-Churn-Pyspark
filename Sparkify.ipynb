{
 "cells": [
  {
   "cell_type": "markdown",
   "metadata": {},
   "source": [
    "#### **Section 1** : Business Understanding"
   ]
  },
  {
   "cell_type": "markdown",
   "metadata": {},
   "source": [
    "Dataset analyzed in this notebook pertains to a fictitious digital music service provider named Sparkify. Its customers can either pay for the services and listen to songs without being interrupted by ads, or get the free version which includes ads. Aim of this project consists in understanding customer behavior through different charts and predict customer churn. Code in subsequent sections will answer following main questions:\n",
    "\n",
    "<b> 1. </b>\tWhat is the overall trend of daily songs played for churned and un-churned customers?\n",
    "\n",
    "<b> 2. </b>\tWho are the most played artists in the top 10 locations?\n",
    "\n",
    "<b> 3. </b>\tHow does average number of songs differ between churned and un-churned customers across hours?\n",
    "\n",
    "<b> 4. </b> How long after the registration did churned customers canceled their subscription?\n",
    "\n",
    "<b> 5.</b> Is there any similarity in song preference between churned and un-churned customers?\n",
    "\n",
    "<b> 6. </b>\tIs there any correlation between Apple device users and churned/un-churned customers?\n",
    "\n",
    "<b> 7. </b>\tWhich is the best classification model that can predict customer churn?\n",
    "\n",
    "<b> 8. </b>\tWhat features important in the best classification model?\n"
   ]
  },
  {
   "cell_type": "code",
   "execution_count": 121,
   "metadata": {},
   "outputs": [],
   "source": [
    "# import libraries\n",
    "from pyspark.sql import SparkSession\n",
    "from pyspark.sql.functions import udf\n",
    "from pyspark.sql.types import StringType\n",
    "from pyspark.sql.types import IntegerType\n",
    "from pyspark.sql.functions import *\n",
    "from pyspark.sql.functions import monotonically_increasing_id \n",
    "from pyspark.sql import functions as F\n",
    "from pyspark.sql import Window\n",
    "import warnings\n",
    "warnings.simplefilter(action='ignore')\n",
    "from textwrap import wrap\n",
    "import matplotlib.pyplot as plt\n",
    "import numpy as np\n",
    "import pandas as pd\n",
    "import datetime\n",
    "pd.set_option('display.max_rows', 500)\n",
    "pd.set_option('display.max_columns', 500)\n",
    "pd.set_option('max_colwidth', 800)\n",
    "import seaborn as sns\n",
    "\n",
    "from sklearn.preprocessing import StandardScaler\n",
    "from pyspark.ml.classification import GBTClassifier, RandomForestClassifier ,  DecisionTreeClassifier , LinearSVC\n",
    "from pyspark.ml.evaluation import MulticlassClassificationEvaluator\n",
    "from pyspark.ml.evaluation import BinaryClassificationEvaluator\n",
    "from pyspark.ml.tuning import CrossValidator, ParamGridBuilder\n",
    "from pyspark.ml.feature import VectorAssembler\n",
    "from pyspark.ml.feature import StandardScaler"
   ]
  },
  {
   "cell_type": "markdown",
   "metadata": {},
   "source": [
    "\n",
    "from pyspark.sql.functions import desc\n",
    "from pyspark.sql.functions import asc\n",
    "from pyspark.sql.functions import sum as Fsum\n",
    "from pyspark.sql.functions import isnan, when, count, col\n",
    "from pyspark.sql.functions import *\n",
    "from pyspark.sql.functions import monotonically_increasing_id \n",
    "from sklearn.model_selection import train_test_split\n",
    "from sklearn.preprocessing import StandardScaler\n",
    "from pyspark.sql.functions import *\n",
    "from pyspark.sql import functions as F\n",
    "from pyspark.sql import Window\n",
    "import warnings\n",
    "warnings.simplefilter(action='ignore')\n",
    "from textwrap import wrap\n",
    "import matplotlib.pyplot as plt\n",
    "import datetime\n",
    "\n",
    "import numpy as np\n",
    "import pandas as pd\n",
    "%matplotlib inline\n",
    "import matplotlib.pyplot as plt\n",
    "import seaborn as sns\n",
    "pd.set_option('display.max_rows', 500)\n",
    "pd.set_option('display.max_columns', 500)\n",
    "pd.set_option('max_colwidth', 800)\n",
    "\n",
    "from statsmodels.stats.outliers_influence import variance_inflation_factor\n",
    "from sklearn.linear_model import ElasticNet\n",
    "from sklearn.ensemble import RandomForestClassifier\n",
    "from sklearn.model_selection import train_test_split, RandomizedSearchCV\n",
    "from sklearn.pipeline import Pipeline\n",
    "from sklearn.model_selection import cross_validate\n",
    "rf = RandomForestClassifier()\n",
    "import statsmodels.api as sm\n",
    "\n",
    "from sklearn.metrics import accuracy_score, precision_score, recall_score, f1_score, classification_report,confusion_matrix, ConfusionMatrixDisplay"
   ]
  },
  {
   "cell_type": "markdown",
   "metadata": {},
   "source": [
    "\n",
    "from pyspark.ml.classification import LogisticRegression, DecisionTreeClassifier\n",
    "from pyspark.ml.classification import GBTClassifier, RandomForestClassifier , LinearSVC\n",
    "from pyspark.ml.evaluation import MulticlassClassificationEvaluator\n",
    "from pyspark.ml.evaluation import BinaryClassificationEvaluator\n",
    "from pyspark.ml.tuning import CrossValidator, ParamGridBuilder\n",
    "from pyspark.ml.feature import VectorAssembler\n",
    "from pyspark.ml.feature import StandardScaler\n",
    "import pandas as pd\n",
    "import matplotlib.pyplot as plt\n",
    "import seaborn as sns\n",
    "import numpy as np\n",
    "from pyspark.mllib.evaluation import MulticlassMetrics\n",
    "\n",
    "\n",
    "import utils\n"
   ]
  },
  {
   "cell_type": "code",
   "execution_count": 71,
   "metadata": {},
   "outputs": [],
   "source": [
    "# create a Spark session\n",
    "spark = SparkSession \\\n",
    "        .builder \\\n",
    "        .appName(\"Sparkify Workspace\") \\\n",
    "        .getOrCreate()\n"
   ]
  },
  {
   "cell_type": "markdown",
   "metadata": {},
   "source": [
    "#### **Section 2** : Data Understanding"
   ]
  },
  {
   "cell_type": "code",
   "execution_count": 72,
   "metadata": {},
   "outputs": [
    {
     "name": "stdout",
     "output_type": "stream",
     "text": [
      "root\n",
      " |-- artist: string (nullable = true)\n",
      " |-- auth: string (nullable = true)\n",
      " |-- firstName: string (nullable = true)\n",
      " |-- gender: string (nullable = true)\n",
      " |-- itemInSession: long (nullable = true)\n",
      " |-- lastName: string (nullable = true)\n",
      " |-- length: double (nullable = true)\n",
      " |-- level: string (nullable = true)\n",
      " |-- location: string (nullable = true)\n",
      " |-- method: string (nullable = true)\n",
      " |-- page: string (nullable = true)\n",
      " |-- registration: long (nullable = true)\n",
      " |-- sessionId: long (nullable = true)\n",
      " |-- song: string (nullable = true)\n",
      " |-- status: long (nullable = true)\n",
      " |-- ts: long (nullable = true)\n",
      " |-- userAgent: string (nullable = true)\n",
      " |-- userId: string (nullable = true)\n",
      "\n"
     ]
    }
   ],
   "source": [
    "#Read the dataset\n",
    "df_data = spark.read.json(\"mini_sparkify_event_data.json\")\n",
    "#Print dataset schema\n",
    "df_data.printSchema()"
   ]
  },
  {
   "cell_type": "code",
   "execution_count": 73,
   "metadata": {},
   "outputs": [
    {
     "name": "stdout",
     "output_type": "stream",
     "text": [
      "(286500, 18)\n"
     ]
    }
   ],
   "source": [
    "#Get number of rows and columns\n",
    "print((df_data.count(), len(df_data.columns)))"
   ]
  },
  {
   "cell_type": "code",
   "execution_count": 74,
   "metadata": {},
   "outputs": [
    {
     "data": {
      "text/html": [
       "<div>\n",
       "<style scoped>\n",
       "    .dataframe tbody tr th:only-of-type {\n",
       "        vertical-align: middle;\n",
       "    }\n",
       "\n",
       "    .dataframe tbody tr th {\n",
       "        vertical-align: top;\n",
       "    }\n",
       "\n",
       "    .dataframe thead th {\n",
       "        text-align: right;\n",
       "    }\n",
       "</style>\n",
       "<table border=\"1\" class=\"dataframe\">\n",
       "  <thead>\n",
       "    <tr style=\"text-align: right;\">\n",
       "      <th></th>\n",
       "      <th>artist</th>\n",
       "      <th>auth</th>\n",
       "      <th>firstName</th>\n",
       "      <th>gender</th>\n",
       "      <th>itemInSession</th>\n",
       "      <th>lastName</th>\n",
       "      <th>length</th>\n",
       "      <th>level</th>\n",
       "      <th>location</th>\n",
       "      <th>method</th>\n",
       "      <th>page</th>\n",
       "      <th>registration</th>\n",
       "      <th>sessionId</th>\n",
       "      <th>song</th>\n",
       "      <th>status</th>\n",
       "      <th>ts</th>\n",
       "      <th>userAgent</th>\n",
       "      <th>userId</th>\n",
       "    </tr>\n",
       "  </thead>\n",
       "  <tbody>\n",
       "    <tr>\n",
       "      <th>0</th>\n",
       "      <td>Martha Tilston</td>\n",
       "      <td>Logged In</td>\n",
       "      <td>Colin</td>\n",
       "      <td>M</td>\n",
       "      <td>50</td>\n",
       "      <td>Freeman</td>\n",
       "      <td>277.89016</td>\n",
       "      <td>paid</td>\n",
       "      <td>Bakersfield, CA</td>\n",
       "      <td>PUT</td>\n",
       "      <td>NextSong</td>\n",
       "      <td>1538173362000</td>\n",
       "      <td>29</td>\n",
       "      <td>Rockpools</td>\n",
       "      <td>200</td>\n",
       "      <td>1538352117000</td>\n",
       "      <td>Mozilla/5.0 (Windows NT 6.1; WOW64; rv:31.0) Gecko/20100101 Firefox/31.0</td>\n",
       "      <td>30</td>\n",
       "    </tr>\n",
       "    <tr>\n",
       "      <th>1</th>\n",
       "      <td>Adam Lambert</td>\n",
       "      <td>Logged In</td>\n",
       "      <td>Colin</td>\n",
       "      <td>M</td>\n",
       "      <td>51</td>\n",
       "      <td>Freeman</td>\n",
       "      <td>282.82730</td>\n",
       "      <td>paid</td>\n",
       "      <td>Bakersfield, CA</td>\n",
       "      <td>PUT</td>\n",
       "      <td>NextSong</td>\n",
       "      <td>1538173362000</td>\n",
       "      <td>29</td>\n",
       "      <td>Time For Miracles</td>\n",
       "      <td>200</td>\n",
       "      <td>1538352394000</td>\n",
       "      <td>Mozilla/5.0 (Windows NT 6.1; WOW64; rv:31.0) Gecko/20100101 Firefox/31.0</td>\n",
       "      <td>30</td>\n",
       "    </tr>\n",
       "    <tr>\n",
       "      <th>2</th>\n",
       "      <td>Daft Punk</td>\n",
       "      <td>Logged In</td>\n",
       "      <td>Colin</td>\n",
       "      <td>M</td>\n",
       "      <td>52</td>\n",
       "      <td>Freeman</td>\n",
       "      <td>223.60771</td>\n",
       "      <td>paid</td>\n",
       "      <td>Bakersfield, CA</td>\n",
       "      <td>PUT</td>\n",
       "      <td>NextSong</td>\n",
       "      <td>1538173362000</td>\n",
       "      <td>29</td>\n",
       "      <td>Harder Better Faster Stronger</td>\n",
       "      <td>200</td>\n",
       "      <td>1538352676000</td>\n",
       "      <td>Mozilla/5.0 (Windows NT 6.1; WOW64; rv:31.0) Gecko/20100101 Firefox/31.0</td>\n",
       "      <td>30</td>\n",
       "    </tr>\n",
       "    <tr>\n",
       "      <th>3</th>\n",
       "      <td>Starflyer 59</td>\n",
       "      <td>Logged In</td>\n",
       "      <td>Colin</td>\n",
       "      <td>M</td>\n",
       "      <td>53</td>\n",
       "      <td>Freeman</td>\n",
       "      <td>185.44281</td>\n",
       "      <td>paid</td>\n",
       "      <td>Bakersfield, CA</td>\n",
       "      <td>PUT</td>\n",
       "      <td>NextSong</td>\n",
       "      <td>1538173362000</td>\n",
       "      <td>29</td>\n",
       "      <td>Passengers (Old Album Version)</td>\n",
       "      <td>200</td>\n",
       "      <td>1538352899000</td>\n",
       "      <td>Mozilla/5.0 (Windows NT 6.1; WOW64; rv:31.0) Gecko/20100101 Firefox/31.0</td>\n",
       "      <td>30</td>\n",
       "    </tr>\n",
       "    <tr>\n",
       "      <th>4</th>\n",
       "      <td>None</td>\n",
       "      <td>Logged In</td>\n",
       "      <td>Colin</td>\n",
       "      <td>M</td>\n",
       "      <td>54</td>\n",
       "      <td>Freeman</td>\n",
       "      <td>NaN</td>\n",
       "      <td>paid</td>\n",
       "      <td>Bakersfield, CA</td>\n",
       "      <td>PUT</td>\n",
       "      <td>Add to Playlist</td>\n",
       "      <td>1538173362000</td>\n",
       "      <td>29</td>\n",
       "      <td>None</td>\n",
       "      <td>200</td>\n",
       "      <td>1538352905000</td>\n",
       "      <td>Mozilla/5.0 (Windows NT 6.1; WOW64; rv:31.0) Gecko/20100101 Firefox/31.0</td>\n",
       "      <td>30</td>\n",
       "    </tr>\n",
       "  </tbody>\n",
       "</table>\n",
       "</div>"
      ],
      "text/plain": [
       "           artist       auth firstName gender  itemInSession lastName  \\\n",
       "0  Martha Tilston  Logged In     Colin      M             50  Freeman   \n",
       "1    Adam Lambert  Logged In     Colin      M             51  Freeman   \n",
       "2       Daft Punk  Logged In     Colin      M             52  Freeman   \n",
       "3    Starflyer 59  Logged In     Colin      M             53  Freeman   \n",
       "4            None  Logged In     Colin      M             54  Freeman   \n",
       "\n",
       "      length level         location method             page   registration  \\\n",
       "0  277.89016  paid  Bakersfield, CA    PUT         NextSong  1538173362000   \n",
       "1  282.82730  paid  Bakersfield, CA    PUT         NextSong  1538173362000   \n",
       "2  223.60771  paid  Bakersfield, CA    PUT         NextSong  1538173362000   \n",
       "3  185.44281  paid  Bakersfield, CA    PUT         NextSong  1538173362000   \n",
       "4        NaN  paid  Bakersfield, CA    PUT  Add to Playlist  1538173362000   \n",
       "\n",
       "   sessionId                            song  status             ts  \\\n",
       "0         29                       Rockpools     200  1538352117000   \n",
       "1         29               Time For Miracles     200  1538352394000   \n",
       "2         29   Harder Better Faster Stronger     200  1538352676000   \n",
       "3         29  Passengers (Old Album Version)     200  1538352899000   \n",
       "4         29                            None     200  1538352905000   \n",
       "\n",
       "                                                                  userAgent  \\\n",
       "0  Mozilla/5.0 (Windows NT 6.1; WOW64; rv:31.0) Gecko/20100101 Firefox/31.0   \n",
       "1  Mozilla/5.0 (Windows NT 6.1; WOW64; rv:31.0) Gecko/20100101 Firefox/31.0   \n",
       "2  Mozilla/5.0 (Windows NT 6.1; WOW64; rv:31.0) Gecko/20100101 Firefox/31.0   \n",
       "3  Mozilla/5.0 (Windows NT 6.1; WOW64; rv:31.0) Gecko/20100101 Firefox/31.0   \n",
       "4  Mozilla/5.0 (Windows NT 6.1; WOW64; rv:31.0) Gecko/20100101 Firefox/31.0   \n",
       "\n",
       "  userId  \n",
       "0     30  \n",
       "1     30  \n",
       "2     30  \n",
       "3     30  \n",
       "4     30  "
      ]
     },
     "execution_count": 74,
     "metadata": {},
     "output_type": "execute_result"
    }
   ],
   "source": [
    "#Create a view to run queries\n",
    "df_data.createOrReplaceTempView(\"df_data_table\")\n",
    "#Convert into a pandas dataframe for better visibilty to see how top 2 rows look like\n",
    "spark.sql(\"SELECT * FROM df_data_table where userId = 30 LIMIT 5\").toPandas()"
   ]
  },
  {
   "cell_type": "code",
   "execution_count": 75,
   "metadata": {},
   "outputs": [
    {
     "data": {
      "text/html": [
       "<div>\n",
       "<style scoped>\n",
       "    .dataframe tbody tr th:only-of-type {\n",
       "        vertical-align: middle;\n",
       "    }\n",
       "\n",
       "    .dataframe tbody tr th {\n",
       "        vertical-align: top;\n",
       "    }\n",
       "\n",
       "    .dataframe thead th {\n",
       "        text-align: right;\n",
       "    }\n",
       "</style>\n",
       "<table border=\"1\" class=\"dataframe\">\n",
       "  <thead>\n",
       "    <tr style=\"text-align: right;\">\n",
       "      <th></th>\n",
       "      <th>Null Counts</th>\n",
       "    </tr>\n",
       "  </thead>\n",
       "  <tbody>\n",
       "    <tr>\n",
       "      <th>firstName</th>\n",
       "      <td>8346</td>\n",
       "    </tr>\n",
       "    <tr>\n",
       "      <th>gender</th>\n",
       "      <td>8346</td>\n",
       "    </tr>\n",
       "    <tr>\n",
       "      <th>lastName</th>\n",
       "      <td>8346</td>\n",
       "    </tr>\n",
       "    <tr>\n",
       "      <th>location</th>\n",
       "      <td>8346</td>\n",
       "    </tr>\n",
       "    <tr>\n",
       "      <th>registration</th>\n",
       "      <td>8346</td>\n",
       "    </tr>\n",
       "    <tr>\n",
       "      <th>userAgent</th>\n",
       "      <td>8346</td>\n",
       "    </tr>\n",
       "    <tr>\n",
       "      <th>artist</th>\n",
       "      <td>58392</td>\n",
       "    </tr>\n",
       "    <tr>\n",
       "      <th>length</th>\n",
       "      <td>58392</td>\n",
       "    </tr>\n",
       "    <tr>\n",
       "      <th>song</th>\n",
       "      <td>58392</td>\n",
       "    </tr>\n",
       "  </tbody>\n",
       "</table>\n",
       "</div>"
      ],
      "text/plain": [
       "              Null Counts\n",
       "firstName            8346\n",
       "gender               8346\n",
       "lastName             8346\n",
       "location             8346\n",
       "registration         8346\n",
       "userAgent            8346\n",
       "artist              58392\n",
       "length              58392\n",
       "song                58392"
      ]
     },
     "execution_count": 75,
     "metadata": {},
     "output_type": "execute_result"
    }
   ],
   "source": [
    "#Check for the Nulls and Nans\n",
    "df_nulls = df_data.select([count(when(isnan(c) | col(c).isNull(), c)).alias(c) for c in df_data.columns]).toPandas().T\n",
    "df_nulls.rename(columns = {0:'Null Counts'} , inplace = True)\n",
    "df_nulls[df_nulls['Null Counts'] > 0].sort_values(by='Null Counts')"
   ]
  },
  {
   "cell_type": "markdown",
   "metadata": {},
   "source": [
    "Except the last 3 columns all the rest have same number of missing values - 8346."
   ]
  },
  {
   "cell_type": "markdown",
   "metadata": {},
   "source": [
    "- Explore how the dataset looks like for the rows with missing values"
   ]
  },
  {
   "cell_type": "code",
   "execution_count": 76,
   "metadata": {},
   "outputs": [
    {
     "data": {
      "text/html": [
       "<div>\n",
       "<style scoped>\n",
       "    .dataframe tbody tr th:only-of-type {\n",
       "        vertical-align: middle;\n",
       "    }\n",
       "\n",
       "    .dataframe tbody tr th {\n",
       "        vertical-align: top;\n",
       "    }\n",
       "\n",
       "    .dataframe thead th {\n",
       "        text-align: right;\n",
       "    }\n",
       "</style>\n",
       "<table border=\"1\" class=\"dataframe\">\n",
       "  <thead>\n",
       "    <tr style=\"text-align: right;\">\n",
       "      <th></th>\n",
       "      <th>artist</th>\n",
       "      <th>auth</th>\n",
       "      <th>firstName</th>\n",
       "      <th>gender</th>\n",
       "      <th>itemInSession</th>\n",
       "      <th>lastName</th>\n",
       "      <th>length</th>\n",
       "      <th>level</th>\n",
       "      <th>location</th>\n",
       "      <th>method</th>\n",
       "      <th>page</th>\n",
       "      <th>registration</th>\n",
       "      <th>sessionId</th>\n",
       "      <th>song</th>\n",
       "      <th>status</th>\n",
       "      <th>ts</th>\n",
       "      <th>userAgent</th>\n",
       "      <th>userId</th>\n",
       "    </tr>\n",
       "  </thead>\n",
       "  <tbody>\n",
       "    <tr>\n",
       "      <th>0</th>\n",
       "      <td>Martha Tilston</td>\n",
       "      <td>Logged In</td>\n",
       "      <td>Colin</td>\n",
       "      <td>M</td>\n",
       "      <td>50</td>\n",
       "      <td>Freeman</td>\n",
       "      <td>277.89016</td>\n",
       "      <td>paid</td>\n",
       "      <td>Bakersfield, CA</td>\n",
       "      <td>PUT</td>\n",
       "      <td>NextSong</td>\n",
       "      <td>1538173362000</td>\n",
       "      <td>29</td>\n",
       "      <td>Rockpools</td>\n",
       "      <td>200</td>\n",
       "      <td>1538352117000</td>\n",
       "      <td>Mozilla/5.0 (Windows NT 6.1; WOW64; rv:31.0) Gecko/20100101 Firefox/31.0</td>\n",
       "      <td>30</td>\n",
       "    </tr>\n",
       "    <tr>\n",
       "      <th>1</th>\n",
       "      <td>Five Iron Frenzy</td>\n",
       "      <td>Logged In</td>\n",
       "      <td>Micah</td>\n",
       "      <td>M</td>\n",
       "      <td>79</td>\n",
       "      <td>Long</td>\n",
       "      <td>236.09424</td>\n",
       "      <td>free</td>\n",
       "      <td>Boston-Cambridge-Newton, MA-NH</td>\n",
       "      <td>PUT</td>\n",
       "      <td>NextSong</td>\n",
       "      <td>1538331630000</td>\n",
       "      <td>8</td>\n",
       "      <td>Canada</td>\n",
       "      <td>200</td>\n",
       "      <td>1538352180000</td>\n",
       "      <td>\"Mozilla/5.0 (Windows NT 6.1; WOW64) AppleWebKit/537.36 (KHTML, like Gecko) Chrome/37.0.2062.103 Safari/537.36\"</td>\n",
       "      <td>9</td>\n",
       "    </tr>\n",
       "  </tbody>\n",
       "</table>\n",
       "</div>"
      ],
      "text/plain": [
       "             artist       auth firstName gender  itemInSession lastName  \\\n",
       "0    Martha Tilston  Logged In     Colin      M             50  Freeman   \n",
       "1  Five Iron Frenzy  Logged In     Micah      M             79     Long   \n",
       "\n",
       "      length level                        location method      page  \\\n",
       "0  277.89016  paid                 Bakersfield, CA    PUT  NextSong   \n",
       "1  236.09424  free  Boston-Cambridge-Newton, MA-NH    PUT  NextSong   \n",
       "\n",
       "    registration  sessionId       song  status             ts  \\\n",
       "0  1538173362000         29  Rockpools     200  1538352117000   \n",
       "1  1538331630000          8     Canada     200  1538352180000   \n",
       "\n",
       "                                                                                                         userAgent  \\\n",
       "0                                         Mozilla/5.0 (Windows NT 6.1; WOW64; rv:31.0) Gecko/20100101 Firefox/31.0   \n",
       "1  \"Mozilla/5.0 (Windows NT 6.1; WOW64) AppleWebKit/537.36 (KHTML, like Gecko) Chrome/37.0.2062.103 Safari/537.36\"   \n",
       "\n",
       "  userId  \n",
       "0     30  \n",
       "1      9  "
      ]
     },
     "execution_count": 76,
     "metadata": {},
     "output_type": "execute_result"
    }
   ],
   "source": [
    "#Select top 2 rows from the dataset where firstName and gender are null\n",
    "spark.sql('''SELECT  *\n",
    "            FROM df_data_table  \n",
    "            where userAgent is not null\n",
    "            Limit 2''').toPandas()"
   ]
  },
  {
   "cell_type": "code",
   "execution_count": 77,
   "metadata": {},
   "outputs": [
    {
     "name": "stdout",
     "output_type": "stream",
     "text": [
      "+----------+------+------+\n",
      "|      auth|method|Counts|\n",
      "+----------+------+------+\n",
      "|Logged Out|   GET|  5008|\n",
      "|Logged Out|   PUT|  3241|\n",
      "|     Guest|   PUT|     5|\n",
      "|     Guest|   GET|    92|\n",
      "+----------+------+------+\n",
      "\n"
     ]
    }
   ],
   "source": [
    "#Find the type of authentication and method for records pertaining to the subset of null records - 8346\n",
    "\n",
    "spark.sql(\"SELECT  auth , method , count(*) as Counts \\\n",
    "           FROM df_data_table  \\\n",
    "           where firstName is null and gender is null \\\n",
    "           group by auth , method\").show()"
   ]
  },
  {
   "cell_type": "code",
   "execution_count": 78,
   "metadata": {},
   "outputs": [
    {
     "name": "stdout",
     "output_type": "stream",
     "text": [
      "+------+------+\n",
      "|userId|Counts|\n",
      "+------+------+\n",
      "|      |  8346|\n",
      "+------+------+\n",
      "\n"
     ]
    }
   ],
   "source": [
    "#See how userId is being represented for this subset of records - 8346\n",
    "\n",
    "spark.sql(\"SELECT  userId ,  count(*) as Counts \\\n",
    "           FROM df_data_table  \\\n",
    "           where firstName is null and gender is null \\\n",
    "           group by userId\").show()"
   ]
  },
  {
   "cell_type": "markdown",
   "metadata": {},
   "source": [
    "- Conclusion from above queries:"
   ]
  },
  {
   "cell_type": "markdown",
   "metadata": {},
   "source": [
    "Records with *null* values for firstname, gender, lastName,location,registration and userAgent pertain to events of **logged out** and **guest**. Hence these records will be dropped from the dataset."
   ]
  },
  {
   "cell_type": "code",
   "execution_count": 79,
   "metadata": {},
   "outputs": [
    {
     "data": {
      "text/html": [
       "<div>\n",
       "<style scoped>\n",
       "    .dataframe tbody tr th:only-of-type {\n",
       "        vertical-align: middle;\n",
       "    }\n",
       "\n",
       "    .dataframe tbody tr th {\n",
       "        vertical-align: top;\n",
       "    }\n",
       "\n",
       "    .dataframe thead th {\n",
       "        text-align: right;\n",
       "    }\n",
       "</style>\n",
       "<table border=\"1\" class=\"dataframe\">\n",
       "  <thead>\n",
       "    <tr style=\"text-align: right;\">\n",
       "      <th></th>\n",
       "      <th>Null Counts</th>\n",
       "    </tr>\n",
       "  </thead>\n",
       "  <tbody>\n",
       "    <tr>\n",
       "      <th>artist</th>\n",
       "      <td>50046</td>\n",
       "    </tr>\n",
       "    <tr>\n",
       "      <th>length</th>\n",
       "      <td>50046</td>\n",
       "    </tr>\n",
       "    <tr>\n",
       "      <th>song</th>\n",
       "      <td>50046</td>\n",
       "    </tr>\n",
       "  </tbody>\n",
       "</table>\n",
       "</div>"
      ],
      "text/plain": [
       "        Null Counts\n",
       "artist        50046\n",
       "length        50046\n",
       "song          50046"
      ]
     },
     "execution_count": 79,
     "metadata": {},
     "output_type": "execute_result"
    }
   ],
   "source": [
    "#Drop records with null values in firstName, gender, lastName, location, registration, userAgent\n",
    "df_data = df_data.na.drop(subset=[\"firstName\",\"lastName\",\"gender\",\"location\",\"registration\",\"userAgent\"])\n",
    "#Save dataset with dropped nulls to another view\n",
    "df_data.createOrReplaceTempView(\"df_data_dropped_nulls_table\")\n",
    "#Validate if the nulls have been dropped\n",
    "df_nulls = df_data.select([count(when(isnan(c) | col(c).isNull(), c)).alias(c) for c in df_data.columns]).toPandas().T \n",
    "df_nulls.rename(columns = {0:'Null Counts'} , inplace = True)\n",
    "df_nulls[df_nulls['Null Counts'] > 0].sort_values(by='Null Counts')"
   ]
  },
  {
   "cell_type": "code",
   "execution_count": 80,
   "metadata": {},
   "outputs": [
    {
     "name": "stdout",
     "output_type": "stream",
     "text": [
      "+---------+------+--------------------+------+\n",
      "|     auth|method|                page|Counts|\n",
      "+---------+------+--------------------+------+\n",
      "|Logged In|   PUT|           Thumbs Up| 12551|\n",
      "|Logged In|   GET|                Home| 10082|\n",
      "|Logged In|   PUT|     Add to Playlist|  6526|\n",
      "|Logged In|   PUT|          Add Friend|  4277|\n",
      "|Logged In|   GET|         Roll Advert|  3933|\n",
      "|Logged In|   PUT|              Logout|  3226|\n",
      "|Logged In|   PUT|         Thumbs Down|  2546|\n",
      "|Logged In|   GET|           Downgrade|  2055|\n",
      "|Logged In|   GET|            Settings|  1514|\n",
      "|Logged In|   GET|                Help|  1454|\n",
      "|Logged In|   GET|             Upgrade|   499|\n",
      "|Logged In|   GET|               About|   495|\n",
      "|Logged In|   PUT|       Save Settings|   310|\n",
      "|Logged In|   GET|               Error|   252|\n",
      "|Logged In|   PUT|      Submit Upgrade|   159|\n",
      "|Logged In|   PUT|    Submit Downgrade|    63|\n",
      "|Logged In|   PUT|              Cancel|    52|\n",
      "|Cancelled|   GET|Cancellation Conf...|    52|\n",
      "+---------+------+--------------------+------+\n",
      "\n"
     ]
    }
   ],
   "source": [
    "#See how records with artist, length and song as null are being represented \n",
    "\n",
    "spark.sql('''SELECT  auth , method ,page , count(*) as Counts \n",
    "             FROM df_data_dropped_nulls_table  \n",
    "             where artist is null and length is null and song is null\n",
    "             group by auth , method , page \n",
    "             order by 4 desc ''').show()"
   ]
  },
  {
   "cell_type": "markdown",
   "metadata": {},
   "source": [
    "#### Define Churn"
   ]
  },
  {
   "cell_type": "markdown",
   "metadata": {},
   "source": [
    "- Churned customers will be those who have the value **Cancellation Confirmation**  under page column."
   ]
  },
  {
   "cell_type": "code",
   "execution_count": 81,
   "metadata": {},
   "outputs": [],
   "source": [
    "#Function for  defining churn\n",
    "def ischurn(str_):\n",
    "    '''Input: string \n",
    "       Output: int - 1 if the customer churned , 0 otherwise\n",
    "    '''\n",
    "    if str_ == \"Cancellation Confirmation\":\n",
    "        return 1\n",
    "    else:\n",
    "        return 0\n",
    "#udf function\n",
    "udf_ischurn = udf(ischurn , IntegerType() )\n",
    "#Below code uses the above udf function and creates a new column which tells if a customer has churned or no\n",
    "df_data = df_data.withColumn('IsChurn', udf_ischurn(col('page')))"
   ]
  },
  {
   "cell_type": "markdown",
   "metadata": {},
   "source": [
    "- Create a new column stating if the the customer is a Mac user (1) or no (0)."
   ]
  },
  {
   "cell_type": "code",
   "execution_count": 82,
   "metadata": {},
   "outputs": [],
   "source": [
    "def  determine_device(str_):\n",
    "    \n",
    "    if \"Apple\" in str_ or \"Macintosh\" in str_ :\n",
    "        return 1\n",
    "    else:\n",
    "        return 0\n",
    "    \n",
    "udf_determine_device = udf(determine_device, IntegerType())\n",
    "df_data = df_data.withColumn('IsApple', udf_determine_device(col('userAgent')))"
   ]
  },
  {
   "cell_type": "markdown",
   "metadata": {},
   "source": [
    "- Create a new column for level"
   ]
  },
  {
   "cell_type": "code",
   "execution_count": 83,
   "metadata": {},
   "outputs": [],
   "source": [
    "def  determine_level(str_):\n",
    "    \n",
    "    if \"paid\" in str_:\n",
    "        return 1\n",
    "    else:\n",
    "        return 0\n",
    "    \n",
    "udf_determine_level = udf(determine_level , IntegerType() )\n",
    "df_data = df_data.withColumn('Level_', udf_determine_level(col('level')))"
   ]
  },
  {
   "cell_type": "markdown",
   "metadata": {},
   "source": [
    "- From timestamp column create dervative features like: minute, hour, day, month, year"
   ]
  },
  {
   "cell_type": "code",
   "execution_count": 84,
   "metadata": {},
   "outputs": [],
   "source": [
    "min_calc = udf(lambda x: datetime.datetime.fromtimestamp(x / 1000.0). minute)\n",
    "hour_calc = udf(lambda x: datetime.datetime.fromtimestamp(x / 1000.0). hour)\n",
    "day_calc = udf(lambda x: datetime.datetime.fromtimestamp(x / 1000.0). day)\n",
    "month_calc = udf(lambda x: datetime.datetime.fromtimestamp(x / 1000.0). month)\n",
    "year_calc = udf(lambda x: datetime.datetime.fromtimestamp(x / 1000.0). year)\n",
    "datetime_calc = udf(lambda x: datetime.datetime.fromtimestamp(x / 1000.0). datetime)\n",
    "\n",
    "#udf to convert the ts to timestamp\n",
    "get_timestamp = udf(lambda x : datetime.datetime.fromtimestamp(x/ 1000.0).strftime(\"%Y-%m-%d\"))\n",
    "\n",
    "df_data = df_data \\\n",
    "          .withColumn(\"minute\", min_calc(df_data.ts)) \\\n",
    "          .withColumn(\"hour\", hour_calc(df_data.ts)) \\\n",
    "          .withColumn(\"day\", day_calc(df_data.ts)) \\\n",
    "          .withColumn(\"month\", month_calc(df_data.ts)) \\\n",
    "          .withColumn(\"year\", year_calc(df_data.ts)) \\\n",
    "          .withColumn(\"datetime\", get_timestamp(df_data.ts)) \n",
    "\n",
    "\n",
    "#udf to convert the registration to timestamp\n",
    "\n",
    "df_data = df_data.withColumn(\"Registration_ts\", get_timestamp(df_data.registration)) "
   ]
  },
  {
   "cell_type": "markdown",
   "metadata": {},
   "source": [
    "- Create a new column which finds the difference between registration date and datetime."
   ]
  },
  {
   "cell_type": "code",
   "execution_count": 85,
   "metadata": {},
   "outputs": [],
   "source": [
    "df_data = df_data.withColumn(\"Days_From_Registration\", datediff(col(\"datetime\") , col(\"Registration_ts\")))"
   ]
  },
  {
   "cell_type": "markdown",
   "metadata": {},
   "source": [
    "- Create a new column for state"
   ]
  },
  {
   "cell_type": "code",
   "execution_count": 86,
   "metadata": {},
   "outputs": [],
   "source": [
    "df_data = df_data.withColumn('State', split(df_data['location'], ',').getItem(1).substr(1,3))\n",
    "#Trim spaces from state column\n",
    "df_data = df_data.withColumn('State', trim(df_data.State))"
   ]
  },
  {
   "cell_type": "markdown",
   "metadata": {},
   "source": [
    "#### Get statistics for each column in the dataset"
   ]
  },
  {
   "cell_type": "markdown",
   "metadata": {},
   "source": [
    "- Below code shows statistics for each numerical feature."
   ]
  },
  {
   "cell_type": "code",
   "execution_count": 87,
   "metadata": {},
   "outputs": [
    {
     "name": "stdout",
     "output_type": "stream",
     "text": [
      "Statistics for column: itemInSession\n",
      "+-------+------------------+\n",
      "|summary|     itemInSession|\n",
      "+-------+------------------+\n",
      "|  count|            278154|\n",
      "|   mean|114.89918174824018|\n",
      "| stddev|129.85172939949013|\n",
      "|    min|                 0|\n",
      "|    max|              1321|\n",
      "+-------+------------------+\n",
      "\n",
      "Statistics for column: length\n",
      "+-------+------------------+\n",
      "|summary|            length|\n",
      "+-------+------------------+\n",
      "|  count|            228108|\n",
      "|   mean|249.11718197783722|\n",
      "| stddev| 99.23517921058324|\n",
      "|    min|           0.78322|\n",
      "|    max|        3024.66567|\n",
      "+-------+------------------+\n",
      "\n",
      "Statistics for column: registration\n",
      "+-------+--------------------+\n",
      "|summary|        registration|\n",
      "+-------+--------------------+\n",
      "|  count|              278154|\n",
      "|   mean|1.535358834085557E12|\n",
      "| stddev| 3.291321616328068E9|\n",
      "|    min|       1521380675000|\n",
      "|    max|       1543247354000|\n",
      "+-------+--------------------+\n",
      "\n",
      "Statistics for column: sessionId\n",
      "+-------+------------------+\n",
      "|summary|         sessionId|\n",
      "+-------+------------------+\n",
      "|  count|            278154|\n",
      "|   mean|1042.5616241362698|\n",
      "| stddev| 726.5010362219821|\n",
      "|    min|                 1|\n",
      "|    max|              2474|\n",
      "+-------+------------------+\n",
      "\n",
      "Statistics for column: status\n",
      "+-------+------------------+\n",
      "|summary|            status|\n",
      "+-------+------------------+\n",
      "|  count|            278154|\n",
      "|   mean|209.10321620397335|\n",
      "| stddev|30.151388851327823|\n",
      "|    min|               200|\n",
      "|    max|               404|\n",
      "+-------+------------------+\n",
      "\n",
      "Statistics for column: ts\n",
      "+-------+--------------------+\n",
      "|summary|                  ts|\n",
      "+-------+--------------------+\n",
      "|  count|              278154|\n",
      "|   mean|1.540958915431857...|\n",
      "| stddev|1.5068287123347573E9|\n",
      "|    min|       1538352117000|\n",
      "|    max|       1543799476000|\n",
      "+-------+--------------------+\n",
      "\n",
      "Statistics for column: Level_\n",
      "+-------+-------------------+\n",
      "|summary|             Level_|\n",
      "+-------+-------------------+\n",
      "|  count|             278154|\n",
      "|   mean| 0.7996757192059075|\n",
      "| stddev|0.40024372479844655|\n",
      "|    min|                  0|\n",
      "|    max|                  1|\n",
      "+-------+-------------------+\n",
      "\n",
      "Statistics for column: Days_From_Registration\n",
      "+-------+----------------------+\n",
      "|summary|Days_From_Registration|\n",
      "+-------+----------------------+\n",
      "|  count|                278154|\n",
      "|   mean|     64.76562983095695|\n",
      "| stddev|     41.99776796311627|\n",
      "|    min|                    -2|\n",
      "|    max|                   256|\n",
      "+-------+----------------------+\n",
      "\n"
     ]
    }
   ],
   "source": [
    "#Create a list of numerical values from the dataset\n",
    "num_columns = [c for c, t in df_data.dtypes if t !='string' and c != 'IsChurn' and c != 'IsApple']\n",
    "\n",
    "#Loop through each of numerical value and print statistics\n",
    "for col_name in num_columns:\n",
    "    print(f\"Statistics for column: {col_name}\")\n",
    "    df_data.describe([col_name]).show()"
   ]
  },
  {
   "cell_type": "markdown",
   "metadata": {},
   "source": [
    "- Below code shows the value count for each categorical column in the dataset"
   ]
  },
  {
   "cell_type": "code",
   "execution_count": 88,
   "metadata": {},
   "outputs": [
    {
     "name": "stdout",
     "output_type": "stream",
     "text": [
      "Value counts for column: artist\n",
      "+--------------------+-----+\n",
      "|              artist|count|\n",
      "+--------------------+-----+\n",
      "|                null|50046|\n",
      "|       Kings Of Leon| 1841|\n",
      "|            Coldplay| 1813|\n",
      "|Florence + The Ma...| 1236|\n",
      "|       Dwight Yoakam| 1135|\n",
      "|            BjÃÂ¶rk| 1133|\n",
      "|      The Black Keys| 1125|\n",
      "|                Muse| 1090|\n",
      "|       Justin Bieber| 1044|\n",
      "|        Jack Johnson| 1007|\n",
      "|              Eminem|  953|\n",
      "|           Radiohead|  884|\n",
      "|     Alliance Ethnik|  876|\n",
      "|               Train|  854|\n",
      "|        Taylor Swift|  840|\n",
      "|         OneRepublic|  828|\n",
      "|         The Killers|  822|\n",
      "|         Linkin Park|  787|\n",
      "|         Evanescence|  781|\n",
      "|            Harmonia|  729|\n",
      "+--------------------+-----+\n",
      "only showing top 20 rows\n",
      "\n",
      "Value counts for column: auth\n",
      "+---------+------+\n",
      "|     auth| count|\n",
      "+---------+------+\n",
      "|Logged In|278102|\n",
      "|Cancelled|    52|\n",
      "+---------+------+\n",
      "\n",
      "Value counts for column: firstName\n",
      "+---------+-----+\n",
      "|firstName|count|\n",
      "+---------+-----+\n",
      "|   Payton| 9632|\n",
      "|    Riley| 7970|\n",
      "|   Lucero| 6880|\n",
      "|   Emilia| 5732|\n",
      "|     Emma| 5478|\n",
      "|   Joseph| 5209|\n",
      "|    Colin| 4989|\n",
      "|   Nicole| 4825|\n",
      "|   Joshua| 4654|\n",
      "|  Brayden| 4621|\n",
      "|  Alyssia| 4428|\n",
      "|   Jayden| 4268|\n",
      "|   Dillyn| 4257|\n",
      "|   Sophia| 4246|\n",
      "|   Bryson| 4172|\n",
      "|  Katiana| 3769|\n",
      "|   Oliver| 3657|\n",
      "|    Kaleb| 3603|\n",
      "|   Samuel| 3486|\n",
      "|    Alexi| 3437|\n",
      "+---------+-----+\n",
      "only showing top 20 rows\n",
      "\n",
      "Value counts for column: gender\n",
      "+------+------+\n",
      "|gender| count|\n",
      "+------+------+\n",
      "|     F|154578|\n",
      "|     M|123576|\n",
      "+------+------+\n",
      "\n",
      "Value counts for column: lastName\n",
      "+----------+-----+\n",
      "|  lastName|count|\n",
      "+----------+-----+\n",
      "|  Campbell|14060|\n",
      "|      Reed| 9284|\n",
      "|  Williams| 8410|\n",
      "|    Taylor| 7230|\n",
      "|   Johnson| 6106|\n",
      "|    Larson| 6105|\n",
      "|     House| 5732|\n",
      "|  Thompson| 5217|\n",
      "|     Jones| 4831|\n",
      "|      Beck| 4825|\n",
      "|     Allen| 4659|\n",
      "|   Stewart| 4461|\n",
      "|    Miller| 4428|\n",
      "|    Thomas| 4370|\n",
      "|Richardson| 4257|\n",
      "|  Phillips| 4002|\n",
      "|  Robinson| 3890|\n",
      "|   Daniels| 3769|\n",
      "|  Roberson| 3761|\n",
      "|      Long| 3483|\n",
      "+----------+-----+\n",
      "only showing top 20 rows\n",
      "\n",
      "Value counts for column: level\n",
      "+-----+------+\n",
      "|level| count|\n",
      "+-----+------+\n",
      "| paid|222433|\n",
      "| free| 55721|\n",
      "+-----+------+\n",
      "\n",
      "Value counts for column: location\n",
      "+--------------------+-----+\n",
      "|            location|count|\n",
      "+--------------------+-----+\n",
      "|Los Angeles-Long ...|30131|\n",
      "|New York-Newark-J...|23684|\n",
      "|Boston-Cambridge-...|13873|\n",
      "|Houston-The Woodl...| 9499|\n",
      "|Charlotte-Concord...| 7780|\n",
      "|Dallas-Fort Worth...| 7605|\n",
      "|Louisville/Jeffer...| 6880|\n",
      "|Philadelphia-Camd...| 5890|\n",
      "|Chicago-Napervill...| 5114|\n",
      "|    St. Louis, MO-IL| 4858|\n",
      "|Phoenix-Mesa-Scot...| 4846|\n",
      "|Vineland-Bridgeto...| 4825|\n",
      "|          Wilson, NC| 4659|\n",
      "|Denver-Aurora-Lak...| 4453|\n",
      "|           Ionia, MI| 4428|\n",
      "|San Antonio-New B...| 4373|\n",
      "|        Danville, VA| 4257|\n",
      "|Atlanta-Sandy Spr...| 4236|\n",
      "|New Haven-Milford...| 4007|\n",
      "|         Jackson, MS| 3839|\n",
      "+--------------------+-----+\n",
      "only showing top 20 rows\n",
      "\n",
      "Value counts for column: method\n",
      "+------+------+\n",
      "|method| count|\n",
      "+------+------+\n",
      "|   PUT|257818|\n",
      "|   GET| 20336|\n",
      "+------+------+\n",
      "\n",
      "Value counts for column: page\n",
      "+--------------------+------+\n",
      "|                page| count|\n",
      "+--------------------+------+\n",
      "|            NextSong|228108|\n",
      "|           Thumbs Up| 12551|\n",
      "|                Home| 10082|\n",
      "|     Add to Playlist|  6526|\n",
      "|          Add Friend|  4277|\n",
      "|         Roll Advert|  3933|\n",
      "|              Logout|  3226|\n",
      "|         Thumbs Down|  2546|\n",
      "|           Downgrade|  2055|\n",
      "|            Settings|  1514|\n",
      "|                Help|  1454|\n",
      "|             Upgrade|   499|\n",
      "|               About|   495|\n",
      "|       Save Settings|   310|\n",
      "|               Error|   252|\n",
      "|      Submit Upgrade|   159|\n",
      "|    Submit Downgrade|    63|\n",
      "|              Cancel|    52|\n",
      "|Cancellation Conf...|    52|\n",
      "+--------------------+------+\n",
      "\n",
      "Value counts for column: song\n",
      "+--------------------+-----+\n",
      "|                song|count|\n",
      "+--------------------+-----+\n",
      "|                null|50046|\n",
      "|      You're The One| 1153|\n",
      "|                Undo| 1026|\n",
      "|             Revelry|  854|\n",
      "|       Sehr kosmisch|  728|\n",
      "|Horn Concerto No....|  641|\n",
      "|Dog Days Are Over...|  574|\n",
      "|             Secrets|  466|\n",
      "|        Use Somebody|  459|\n",
      "|              Canada|  435|\n",
      "|             Invalid|  424|\n",
      "|    Ain't Misbehavin|  409|\n",
      "|       ReprÃÂ©sente|  393|\n",
      "|SinceritÃÂ© Et J...|  384|\n",
      "|Catch You Baby (S...|  373|\n",
      "|    Somebody To Love|  343|\n",
      "|              Yellow|  343|\n",
      "|    Hey_ Soul Sister|  334|\n",
      "|            The Gift|  327|\n",
      "|           Fireflies|  312|\n",
      "+--------------------+-----+\n",
      "only showing top 20 rows\n",
      "\n",
      "Value counts for column: userAgent\n",
      "+--------------------+-----+\n",
      "|           userAgent|count|\n",
      "+--------------------+-----+\n",
      "|\"Mozilla/5.0 (Win...|22751|\n",
      "|\"Mozilla/5.0 (Mac...|19611|\n",
      "|\"Mozilla/5.0 (Mac...|18448|\n",
      "|\"Mozilla/5.0 (Mac...|17348|\n",
      "|Mozilla/5.0 (Wind...|16700|\n",
      "|\"Mozilla/5.0 (Win...|15395|\n",
      "|\"Mozilla/5.0 (Win...|14598|\n",
      "|Mozilla/5.0 (Maci...|10300|\n",
      "|\"Mozilla/5.0 (iPa...| 8912|\n",
      "|Mozilla/5.0 (comp...| 8624|\n",
      "|\"Mozilla/5.0 (Mac...| 8094|\n",
      "|\"Mozilla/5.0 (Win...| 7923|\n",
      "|\"Mozilla/5.0 (Mac...| 7906|\n",
      "|\"Mozilla/5.0 (Win...| 7624|\n",
      "|\"Mozilla/5.0 (iPh...| 6417|\n",
      "|Mozilla/5.0 (Wind...| 5989|\n",
      "|\"Mozilla/5.0 (Mac...| 5716|\n",
      "|\"Mozilla/5.0 (Win...| 5238|\n",
      "|\"Mozilla/5.0 (Win...| 4917|\n",
      "|Mozilla/5.0 (Wind...| 4663|\n",
      "+--------------------+-----+\n",
      "only showing top 20 rows\n",
      "\n",
      "Value counts for column: userId\n",
      "+------+-----+\n",
      "|userId|count|\n",
      "+------+-----+\n",
      "|    39| 9632|\n",
      "|    92| 7230|\n",
      "|   140| 6880|\n",
      "|300011| 5732|\n",
      "|   124| 4825|\n",
      "|300021| 4659|\n",
      "|300017| 4428|\n",
      "|    85| 4370|\n",
      "|    42| 4257|\n",
      "|200023| 3769|\n",
      "|     6| 3761|\n",
      "|    29| 3603|\n",
      "|    54| 3437|\n",
      "|   100| 3214|\n",
      "|     9| 3191|\n",
      "|   126| 3102|\n",
      "|300015| 3051|\n",
      "|    91| 3014|\n",
      "|    98| 2891|\n",
      "|    74| 2887|\n",
      "+------+-----+\n",
      "only showing top 20 rows\n",
      "\n",
      "Value counts for column: minute\n",
      "+------+-----+\n",
      "|minute|count|\n",
      "+------+-----+\n",
      "|    49| 4764|\n",
      "|    32| 4757|\n",
      "|    55| 4757|\n",
      "|    29| 4735|\n",
      "|    45| 4725|\n",
      "|    15| 4722|\n",
      "|    39| 4721|\n",
      "|    52| 4719|\n",
      "|    25| 4710|\n",
      "|    48| 4700|\n",
      "|    30| 4698|\n",
      "|    20| 4696|\n",
      "|    10| 4696|\n",
      "|    14| 4692|\n",
      "|     7| 4690|\n",
      "|    24| 4687|\n",
      "|     0| 4667|\n",
      "|    54| 4665|\n",
      "|    42| 4660|\n",
      "|    59| 4659|\n",
      "+------+-----+\n",
      "only showing top 20 rows\n",
      "\n",
      "Value counts for column: hour\n",
      "+----+-----+\n",
      "|hour|count|\n",
      "+----+-----+\n",
      "|  12|14255|\n",
      "|  11|13936|\n",
      "|  13|13869|\n",
      "|  14|13432|\n",
      "|  15|13352|\n",
      "|  16|13217|\n",
      "|  10|13196|\n",
      "|  17|12459|\n",
      "|   9|12305|\n",
      "|  18|12061|\n",
      "|   8|11645|\n",
      "|  19|11492|\n",
      "|   7|11294|\n",
      "|  20|10819|\n",
      "|   6|10562|\n",
      "|   5|10359|\n",
      "|  21|10087|\n",
      "|  22|10079|\n",
      "|  23|10077|\n",
      "|   4|10074|\n",
      "+----+-----+\n",
      "only showing top 20 rows\n",
      "\n",
      "Value counts for column: day\n",
      "+---+-----+\n",
      "|day|count|\n",
      "+---+-----+\n",
      "|  1|12407|\n",
      "|  2|11574|\n",
      "| 15|11267|\n",
      "|  9|10992|\n",
      "| 26|10948|\n",
      "| 19|10945|\n",
      "| 16|10728|\n",
      "| 30|10309|\n",
      "| 20|10220|\n",
      "| 23|10079|\n",
      "|  8| 9985|\n",
      "| 12| 9885|\n",
      "| 29| 9875|\n",
      "| 27| 9293|\n",
      "| 10| 9123|\n",
      "| 21| 9031|\n",
      "|  6| 8594|\n",
      "|  5| 8488|\n",
      "| 22| 8115|\n",
      "| 18| 7973|\n",
      "+---+-----+\n",
      "only showing top 20 rows\n",
      "\n",
      "Value counts for column: month\n",
      "+-----+------+\n",
      "|month| count|\n",
      "+-----+------+\n",
      "|   10|145343|\n",
      "|   11|132589|\n",
      "|    9|   221|\n",
      "|   12|     1|\n",
      "+-----+------+\n",
      "\n",
      "Value counts for column: year\n",
      "+----+------+\n",
      "|year| count|\n",
      "+----+------+\n",
      "|2018|278154|\n",
      "+----+------+\n",
      "\n",
      "Value counts for column: datetime\n",
      "+----------+-----+\n",
      "|  datetime|count|\n",
      "+----------+-----+\n",
      "|2018-11-01| 7832|\n",
      "|2018-11-02| 6806|\n",
      "|2018-11-26| 6376|\n",
      "|2018-10-30| 6273|\n",
      "|2018-11-15| 6241|\n",
      "|2018-10-16| 6237|\n",
      "|2018-11-27| 6186|\n",
      "|2018-10-29| 6097|\n",
      "|2018-10-10| 6066|\n",
      "|2018-11-21| 5807|\n",
      "|2018-10-09| 5686|\n",
      "|2018-10-19| 5647|\n",
      "|2018-10-24| 5495|\n",
      "|2018-10-08| 5464|\n",
      "|2018-11-23| 5445|\n",
      "|2018-10-18| 5441|\n",
      "|2018-10-12| 5434|\n",
      "|2018-10-11| 5362|\n",
      "|2018-10-20| 5345|\n",
      "|2018-11-09| 5306|\n",
      "+----------+-----+\n",
      "only showing top 20 rows\n",
      "\n",
      "Value counts for column: Registration_ts\n",
      "+---------------+-----+\n",
      "|Registration_ts|count|\n",
      "+---------------+-----+\n",
      "|     2018-09-15|13700|\n",
      "|     2018-09-30|12433|\n",
      "|     2018-09-11|10602|\n",
      "|     2018-09-24|10072|\n",
      "|     2018-06-14| 9632|\n",
      "|     2018-09-22| 9496|\n",
      "|     2018-09-08| 9006|\n",
      "|     2018-09-29| 8722|\n",
      "|     2018-09-16| 8619|\n",
      "|     2018-09-25| 8386|\n",
      "|     2018-09-14| 8137|\n",
      "|     2018-09-19| 8094|\n",
      "|     2018-09-13| 7917|\n",
      "|     2018-09-27| 7691|\n",
      "|     2018-09-28| 7252|\n",
      "|     2018-09-26| 5849|\n",
      "|     2018-07-24| 5494|\n",
      "|     2018-08-04| 5234|\n",
      "|     2018-07-21| 4825|\n",
      "|     2018-08-13| 4719|\n",
      "+---------------+-----+\n",
      "only showing top 20 rows\n",
      "\n",
      "Value counts for column: State\n",
      "+-----+-----+\n",
      "|State|count|\n",
      "+-----+-----+\n",
      "|   CA|46771|\n",
      "|   NY|28220|\n",
      "|   TX|23494|\n",
      "|   NC|18468|\n",
      "|   MA|13873|\n",
      "|   FL|13190|\n",
      "|   KY|10342|\n",
      "|   PA| 9628|\n",
      "|   IL| 8219|\n",
      "|   CO| 7493|\n",
      "|   MO| 7420|\n",
      "|   MI| 7216|\n",
      "|   NJ| 7001|\n",
      "|   GA| 6952|\n",
      "|   CT| 6720|\n",
      "|   VA| 4897|\n",
      "|   AZ| 4846|\n",
      "|   NH| 4764|\n",
      "|   MS| 4634|\n",
      "|   WA| 3772|\n",
      "+-----+-----+\n",
      "only showing top 20 rows\n",
      "\n"
     ]
    }
   ],
   "source": [
    "categorical_columns = [c for c, t in df_data.dtypes if t =='string' ]\n",
    "\n",
    "for col_name in categorical_columns:\n",
    "    print(f\"Value counts for column: {col_name}\")\n",
    "    df_data.groupBy(col_name).count().orderBy('count', ascending=False).show()"
   ]
  },
  {
   "cell_type": "code",
   "execution_count": 89,
   "metadata": {},
   "outputs": [
    {
     "name": "stdout",
     "output_type": "stream",
     "text": [
      "Value counts for column: IsChurn\n",
      "+-------+------+\n",
      "|IsChurn| count|\n",
      "+-------+------+\n",
      "|      0|278102|\n",
      "|      1|    52|\n",
      "+-------+------+\n",
      "\n",
      "Value counts for column: IsApple\n",
      "+-------+------+\n",
      "|IsApple| count|\n",
      "+-------+------+\n",
      "|      1|222104|\n",
      "|      0| 56050|\n",
      "+-------+------+\n",
      "\n"
     ]
    }
   ],
   "source": [
    "derived_columns = [ 'IsChurn' , 'IsApple']\n",
    "\n",
    "for col_name in derived_columns:\n",
    "    print(f\"Value counts for column: {col_name}\")\n",
    "    df_data.groupBy(col_name).count().orderBy('count', ascending=False).show()"
   ]
  },
  {
   "cell_type": "code",
   "execution_count": 90,
   "metadata": {},
   "outputs": [],
   "source": [
    "#Create a new view with updated dataset\n",
    "df_data.createOrReplaceTempView(\"df_data\")"
   ]
  },
  {
   "cell_type": "markdown",
   "metadata": {},
   "source": [
    "#### Explore Data"
   ]
  },
  {
   "cell_type": "code",
   "execution_count": 91,
   "metadata": {},
   "outputs": [
    {
     "name": "stdout",
     "output_type": "stream",
     "text": [
      "+--------------+-----+\n",
      "|Distinct users|count|\n",
      "+--------------+-----+\n",
      "|             1|   52|\n",
      "|             0|  173|\n",
      "+--------------+-----+\n",
      "\n"
     ]
    }
   ],
   "source": [
    "df_data.groupBy(\"userId\") \\\n",
    "       .max('IsChurn').withColumnRenamed(\"max(IsChurn)\", \"Distinct users\") \\\n",
    "       .groupby('Distinct users').count().show()\n",
    "       \n"
   ]
  },
  {
   "cell_type": "code",
   "execution_count": 92,
   "metadata": {},
   "outputs": [
    {
     "name": "stdout",
     "output_type": "stream",
     "text": [
      "+-------+------+\n",
      "|IsChurn| count|\n",
      "+-------+------+\n",
      "|      1|    52|\n",
      "|      0|278102|\n",
      "+-------+------+\n",
      "\n"
     ]
    }
   ],
   "source": [
    "df_data.groupBy('IsChurn').count().show()"
   ]
  },
  {
   "cell_type": "code",
   "execution_count": 93,
   "metadata": {},
   "outputs": [],
   "source": [
    "#Create a dataframe just for visualization\n",
    "df_visualization = spark.sql(''' Select * from df_data ''').toPandas()"
   ]
  },
  {
   "cell_type": "code",
   "execution_count": 94,
   "metadata": {},
   "outputs": [
    {
     "data": {
      "image/png": "[encoded data removed]",
      "text/plain": [
       "<Figure size 1000x300 with 2 Axes>"
      ]
     },
     "metadata": {},
     "output_type": "display_data"
    }
   ],
   "source": [
    "#Create two histograms for length and day from registration\n",
    "\n",
    "plt.rcParams[\"figure.figsize\"] = (10,3)\n",
    "fig, axes =  plt.subplots(1, 2)\n",
    "\n",
    "df_visualization.hist('length', bins= 50, ax=axes[0]);\n",
    "df_visualization.hist('Days_From_Registration', bins=100, ax=axes[1]);"
   ]
  },
  {
   "cell_type": "code",
   "execution_count": 95,
   "metadata": {},
   "outputs": [
    {
     "data": {
      "image/png": "[encoded data removed]",
      "text/plain": [
       "<Figure size 500x600 with 1 Axes>"
      ]
     },
     "metadata": {},
     "output_type": "display_data"
    }
   ],
   "source": [
    "#Create barchart for values under page column and state\n",
    "plt.rcParams[\"figure.figsize\"] = (5,6)\n",
    "df_visualization['page'].value_counts().sort_values().plot.barh(title=\"Distribution of page names\");\n",
    "\n",
    "plt.show(block=True)"
   ]
  },
  {
   "cell_type": "code",
   "execution_count": 96,
   "metadata": {},
   "outputs": [
    {
     "data": {
      "image/png": "[encoded data removed]",
      "text/plain": [
       "<Figure size 900x600 with 1 Axes>"
      ]
     },
     "metadata": {},
     "output_type": "display_data"
    }
   ],
   "source": [
    "plt.rcParams[\"figure.figsize\"] = (9,6)\n",
    "df_visualization['State'].value_counts().plot.bar(title=\"Distribution of states\");\n",
    "\n",
    "plt.show(block=True)\n"
   ]
  },
  {
   "cell_type": "markdown",
   "metadata": {},
   "source": [
    "1.\tWhat is the overall trend of daily songs played for churned and un-churned customers?"
   ]
  },
  {
   "cell_type": "code",
   "execution_count": 97,
   "metadata": {},
   "outputs": [
    {
     "data": {
      "image/png": "[encoded data removed]",
      "text/plain": [
       "<Figure size 1200x500 with 1 Axes>"
      ]
     },
     "metadata": {},
     "output_type": "display_data"
    }
   ],
   "source": [
    "#Get seven day moving average for unchurned customers\n",
    "df_roll_avg_Unchurned = spark.sql(''' Select A.datetime ,\n",
    "                           Round (avg(Counts) OVER(Order by  A.datetime rows between 6 preceding and current row) , 2) as rolling_avg_Unchurned\n",
    "                           From (SELECT  datetime , count(*) Counts \n",
    "                           FROM df_data A\n",
    "                           join (SELECT distinct UserId  , sum( IsChurn)\n",
    "                                 from  df_data\n",
    "                                 group by UserId \n",
    "                                 having sum(IsChurn) = 0 ) B \n",
    "                                  On A.UserId = B.UserId\n",
    "                           Where A.song is not null \n",
    "                           Group by A.datetime \n",
    "                           Order by A.datetime) A ''').toPandas()\n",
    "\n",
    "#Get seven day moving average for churned customers\n",
    "df_roll_avg_churned = spark.sql(''' Select A.datetime , \n",
    "                           Round (avg(Counts) OVER(Order by  A.datetime rows between 6 preceding and current row) , 2) \n",
    "                           as rolling_avg_Churned\n",
    "                           From (SELECT  datetime , count(*) Counts \n",
    "                                FROM df_data A\n",
    "                                join (SELECT distinct UserId  , sum( IsChurn)\n",
    "                                     from  df_data\n",
    "                                     group by UserId \n",
    "                                     having sum(IsChurn) > 0 ) B \n",
    "                                  On A.UserId = B.UserId\n",
    "                           Where A.song is not null \n",
    "                           Group by A.datetime \n",
    "                           Order by A.datetime) A ''').toPandas()\n",
    "\n",
    "#Merge two datasets on datetime column\n",
    "df_all_roll_avg = pd.merge(df_roll_avg_Unchurned , df_roll_avg_churned , how = \"inner\" , on = \"datetime\")\n",
    "\n",
    "\n",
    "# set figure size\n",
    "plt.figure( figsize = ( 12, 5))\n",
    "  \n",
    "# plot a simple time series\n",
    "sns.lineplot( x = 'datetime',\n",
    "             y = 'rolling_avg_Unchurned',\n",
    "             data = df_all_roll_avg,\n",
    "             label = 'Unchurned')\n",
    "  \n",
    "# plot using rolling average\n",
    "sns.lineplot( x = 'datetime',\n",
    "             y = 'rolling_avg_Churned',\n",
    "             data = df_all_roll_avg,\n",
    "             label = 'Churned')\n",
    "  \n",
    "plt.xlabel('Year 2018')\n",
    "  \n",
    "# setting customized ticklabels for x axis\n",
    "pos = [ '2018-10-01', '2018-11-01', '2018-12-01']\n",
    "\n",
    "lab = [ 'Oct', 'Nov', 'Dec']\n",
    "  \n",
    "plt.title(\"Daily songs played with 7-day rolling average (Churned vs Unchurned Customers)\")    \n",
    "plt.xticks( pos, lab)\n",
    "plt.ylabel('Count of daily played songs');"
   ]
  },
  {
   "cell_type": "markdown",
   "metadata": {},
   "source": [
    "<b> Answer: </b> Values for un-churned customers are much higher and the overall trend is upward, as opposed to the downward trend observed for churned customers."
   ]
  },
  {
   "cell_type": "markdown",
   "metadata": {},
   "source": [
    "2.\tWho are the most played artists in the top 10 locations?"
   ]
  },
  {
   "cell_type": "code",
   "execution_count": 98,
   "metadata": {},
   "outputs": [
    {
     "data": {
      "image/png": "[encoded data removed]",
      "text/plain": [
       "<Figure size 651.75x500 with 1 Axes>"
      ]
     },
     "metadata": {},
     "output_type": "display_data"
    }
   ],
   "source": [
    "#Select artist and location from the view where we have removed null values\n",
    "df_location_artist = spark.sql(\"SELECT  artist , State , count(*) as Counts \\\n",
    "                               FROM df_data  \\\n",
    "                               Where song is not null \\\n",
    "                               group by artist , State\").toPandas()\n",
    "\n",
    "#Get the maximum count for each state\n",
    "df_location_artist['max'] = df_location_artist.groupby(['State']).Counts.transform(np.max)\n",
    "#Keep only records values of which is equal to maximum value\n",
    "df_location_artist = df_location_artist[df_location_artist['Counts'] == df_location_artist['max']] \\\n",
    "                                       .reset_index().drop(columns = ['index' , 'max'])\n",
    "\n",
    "#In cases of a tie per each state keep the first record\n",
    "df_location_artist = df_location_artist.drop_duplicates(subset='State') \\\n",
    "                                       .sort_values(by='Counts', ascending = False) \\\n",
    "                                       .reset_index().drop(columns = 'index')\n",
    "\n",
    "#Get only top 10 records\n",
    "df_location_artist = df_location_artist.head(10)\n",
    "#Rename artist column\n",
    "df_location_artist.rename(columns = {'artist':'Artist'} , inplace = True)\n",
    "#Plot data\n",
    "chart = sns.catplot(x ='State', y ='Counts' , data = df_location_artist ,  \\\n",
    "                     hue ='Artist' , dodge=False,  kind=\"bar\" );"
   ]
  },
  {
   "cell_type": "markdown",
   "metadata": {},
   "source": [
    "<b> Answer: </b> We can see that the 2 domineering artists are Coldplay and Kings of Leon. First one is the most played artist in California, New York and Florida, whereas the latter in the rest of the listed states."
   ]
  },
  {
   "cell_type": "markdown",
   "metadata": {},
   "source": [
    "3.\tHow does average number of songs differ between churned and un-churned customers across hours?"
   ]
  },
  {
   "cell_type": "code",
   "execution_count": 99,
   "metadata": {},
   "outputs": [],
   "source": [
    "#Get counts by hour for unchurned\n",
    "df_hr_counts_unchurned = spark.sql(''' SELECT  cast(A.hour as int) hour   , count(*) as Counts_Unchurned , \"Unchurned\"\n",
    "                                       FROM df_data  A\n",
    "                                       Join (SELECT distinct UserId  , sum( IsChurn)\n",
    "                                                             from  df_data\n",
    "                                                             group by UserId \n",
    "                                                             having sum(IsChurn) = 0 ) B \n",
    "                                       On A.UserId = B.UserId\n",
    "                                       Where A.song is not null\n",
    "                                       Group by A.hour\n",
    "                                       order by A.hour''').toPandas()\n",
    "\n",
    "#Get counts by hour for churned\n",
    "df_hr_counts_churned = spark.sql(''' SELECT  cast(A.hour as int) hour   , count(*) as Counts_Churned , \"Churned\"\n",
    "                                       FROM df_data  A\n",
    "                                       Join (SELECT distinct UserId  , sum( IsChurn)\n",
    "                                                             from  df_data\n",
    "                                                             group by UserId \n",
    "                                                             having sum(IsChurn) > 0 ) B \n",
    "                                       On A.UserId = B.UserId\n",
    "                                       Where A.song is not null\n",
    "                                       Group by A.hour\n",
    "                                       order by A.hour''').toPandas()\n",
    "\n",
    "#Merge these two dataframes on 'hour'\n",
    "df_hr_counts = pd.merge(df_hr_counts_unchurned , df_hr_counts_churned , on = \"hour\" )"
   ]
  },
  {
   "cell_type": "code",
   "execution_count": 100,
   "metadata": {},
   "outputs": [],
   "source": [
    "df_totals = spark.sql(''' SELECT   count(*) Totals , 'Unchurned'\n",
    "              FROM df_data  A\n",
    "              Join (SELECT distinct UserId  , sum( IsChurn)\n",
    "                    from  df_data\n",
    "                    group by UserId \n",
    "                    having sum(IsChurn) = 0 ) B \n",
    "              On A.UserId = B.UserId\n",
    "              Where A.song is not null\n",
    "              \n",
    "              Union \n",
    "              \n",
    "              SELECT   count(*) Totals  , 'Churned'\n",
    "              FROM df_data  A\n",
    "              Join (SELECT distinct UserId  , sum( IsChurn)\n",
    "                    from  df_data\n",
    "                    group by UserId \n",
    "                    having sum(IsChurn) > 0 ) B \n",
    "              On A.UserId = B.UserId\n",
    "              Where A.song is not null ''').toPandas()\n",
    "\n",
    "df_totals.rename(columns = {'Unchurned':'IsChurned'}, inplace = True)\n",
    "Total_Churned = df_totals['Totals'][df_totals['IsChurned'] == 'Churned'][1]\n",
    "Total_Unchurned = df_totals['Totals'][df_totals['IsChurned'] == 'Unchurned'][0]\n"
   ]
  },
  {
   "cell_type": "code",
   "execution_count": 101,
   "metadata": {},
   "outputs": [
    {
     "data": {
      "image/png": "[encoded data removed]",
      "text/plain": [
       "<Figure size 1200x500 with 1 Axes>"
      ]
     },
     "metadata": {},
     "output_type": "display_data"
    }
   ],
   "source": [
    "#Find averages for churned and unchurned\n",
    "df_hr_counts['Avg Hourly Unchurned'] = (df_hr_counts['Counts_Unchurned'] / Total_Unchurned ).round(4)\n",
    "df_hr_counts['Avg Hourly Churned']   = (df_hr_counts['Counts_Churned'] / Total_Churned).round(4)\n",
    "\n",
    "#Sort by hour\n",
    "df_hr_counts.sort_values(by = \"hour\" , inplace = True)\n",
    "\n",
    "\n",
    "# set figure size\n",
    "plt.figure( figsize = ( 12, 5))\n",
    "  \n",
    "# plot a simple time series\n",
    "sns.lineplot( x = 'hour',\n",
    "             y = 'Avg Hourly Unchurned',\n",
    "             data = df_hr_counts,\n",
    "             label = 'Unchurned')\n",
    "  \n",
    "# plot using rolling average\n",
    "sns.lineplot( x = 'hour',\n",
    "             y = 'Avg Hourly Churned',\n",
    "             data = df_hr_counts,\n",
    "             label = 'Churned')\n",
    "  \n",
    "plt.xlabel('Hours')\n",
    "  \n",
    "# setting customized ticklabels for x axis\n",
    "pos = list(range(24))\n",
    "\n",
    "lab = list(range(24))\n",
    "  \n",
    "plt.title(\"Average songs played by hour\")    \n",
    "plt.xticks( pos, lab)\n",
    "plt.ylabel('Songs (avg)');"
   ]
  },
  {
   "cell_type": "markdown",
   "metadata": {},
   "source": [
    "<b> Answer: </b> For the first group the average of songs played from 1 to 9 am is smaller. After 9 am, we see an increase for both groups which lasts until around 17 pm. During this interval, average songs played by churned customer is greater."
   ]
  },
  {
   "cell_type": "markdown",
   "metadata": {},
   "source": [
    "4.\tHow long after the registration did churned customers canceled their subscription?"
   ]
  },
  {
   "cell_type": "code",
   "execution_count": 102,
   "metadata": {},
   "outputs": [],
   "source": [
    "df_customer_longevity = spark.sql(''' select A.Customer_Longevity , A.level , count(A.Counts) as Counts\n",
    "                                      From ( Select Case when Days_From_Registration <= 30 Then \"1-30 Days\"\n",
    "                                                          when Days_From_Registration > 30 and Days_From_Registration <= 60  Then \"31-60 Days\"\n",
    "                                                          when  Days_From_Registration > 60 and Days_From_Registration <= 90  Then \"61-90 Days\" \n",
    "                                                          when  Days_From_Registration > 90  Then \"> 90 Days\"\n",
    "                                                      end Customer_Longevity , Days_From_Registration , level , count(*) Counts\n",
    "                                              FROM df_data \n",
    "                                              Where IsChurn = 1\n",
    "                                              Group by Customer_Longevity , level ,Days_From_Registration \n",
    "                                              Order by Days_From_Registration ) A \n",
    "                                     Group by A.Customer_Longevity , A.level  ''').toPandas()"
   ]
  },
  {
   "cell_type": "code",
   "execution_count": 103,
   "metadata": {},
   "outputs": [
    {
     "data": {
      "image/png": "[encoded data removed]",
      "text/plain": [
       "<Figure size 1200x500 with 1 Axes>"
      ]
     },
     "metadata": {},
     "output_type": "display_data"
    }
   ],
   "source": [
    "# set figure size\n",
    "plt.figure( figsize = ( 12, 5))\n",
    "ax = sns.barplot(data=df_customer_longevity, x=\"Customer_Longevity\", y=\"Counts\" , hue = 'level' ,\n",
    "             order = [\"1-30 Days\" , \"31-60 Days\" , \"61-90 Days\" , \"> 90 Days\"] , palette ='plasma') \n",
    "\n",
    "ax.set(xlabel = \"Customer Longevity\" , title = \"Churned Customers Longevity vs Service level\");"
   ]
  },
  {
   "cell_type": "markdown",
   "metadata": {},
   "source": [
    "<b> Answer: </b> From the graph we can see that number of churned customers who pay for the service is greater during the first two months. In majority of cases they start listening for free 2 months after registration."
   ]
  },
  {
   "cell_type": "markdown",
   "metadata": {},
   "source": [
    "5.\tIs there any similarity in song preference between churned and un-churned customers?"
   ]
  },
  {
   "cell_type": "code",
   "execution_count": 104,
   "metadata": {},
   "outputs": [
    {
     "data": {
      "image/png": "[encoded data removed]",
      "text/plain": [
       "<Figure size 1170x827 with 1 Axes>"
      ]
     },
     "metadata": {},
     "output_type": "display_data"
    }
   ],
   "source": [
    "#Get songs and counts for each group\n",
    "df_songs_churned = spark.sql('''SELECT A.song , count (*) as Counts \n",
    "                                       ,  count (*)  Over ( order by count (*) desc) as Order\n",
    "                                       , 'Unchurned' \n",
    "                                FROM df_data A\n",
    "                                 join (SELECT distinct UserId  , sum( IsChurn)\n",
    "                                       from  df_data\n",
    "                                       group by UserId \n",
    "                                       having sum(IsChurn) = 0 ) B \n",
    "                                 On A.UserId = B.UserId \n",
    "                                 Where A.song is not null and A.month <> 12\n",
    "                                 Group by  A.song \n",
    "\n",
    "                                 Union \n",
    "                                 SELECT A.song , count (*) as Counts \n",
    "                                       ,  count (*)  Over ( order by count (*) desc) as Order\n",
    "                                       ,  'Churned' \n",
    "                                FROM df_data A\n",
    "                                 join (SELECT distinct UserId  , sum( IsChurn)\n",
    "                                       from  df_data\n",
    "                                       group by UserId \n",
    "                                       having sum(IsChurn) > 0 ) B \n",
    "                                 On A.UserId = B.UserId \n",
    "                                 Where A.song is not null and A.month <> 12\n",
    "                                 Group by  A.song \n",
    "                                 order by Order ''').toPandas()\n",
    "\n",
    "#Get total count for each song\n",
    "df_all_songs = spark.sql('''SELECT A.song , count (*)  as Total_Count\n",
    "                             FROM df_data A\n",
    "                             Where A.song is not null and A.month <> 12\n",
    "                             Group by  A.song ''').toPandas()\n",
    "\n",
    "#Merge two dataframes on song\n",
    "df_songs_churned = pd.merge(df_songs_churned , df_all_songs , on = 'song' , how = 'inner')\n",
    "#Get top 10 songs for each group\n",
    "df_songs_churned = df_songs_churned[df_songs_churned['Order'] <= 10].sort_values(by = \"Order\")\n",
    "\n",
    "\n",
    "#Get average for each song for each group\n",
    "df_songs_churned['Avgerage'] = (df_songs_churned['Counts'] / df_songs_churned['Total_Count'] ).round(2)\n",
    "df_songs_churned.rename(columns = {'Unchurned' : 'IsChurn' , 'song':'Song Name'} , inplace = True)\n",
    "#Reformat song name to fit in the x-axis\n",
    "df_songs_churned['Song Name'] = df_songs_churned['Song Name'].apply(lambda row: '\\n'.join(wrap(row, 25)))\n",
    "#Plot the data\n",
    "%matplotlib inline\n",
    "sns.set()\n",
    "sns.set_theme() \n",
    "sns.set_style(\"whitegrid\")\n",
    "sns.set(rc={'figure.figsize':(11.7,8.27)})\n",
    "chart = sns.barplot(x ='Song Name', y ='Avgerage', hue = 'IsChurn' , data = df_songs_churned,palette ='plasma')\n",
    "chart.set_xticklabels(chart.get_xticklabels(), rotation=45, horizontalalignment='right')\n",
    "chart.set(xlabel = \"Songs ordered by rank (hghest rank in the left)\")\n",
    "chart.legend(bbox_to_anchor=(1.02, 1), loc='upper left', borderaxespad=0);\n"
   ]
  },
  {
   "cell_type": "markdown",
   "metadata": {},
   "source": [
    "<b> Answer </b> Song preferences are very similar."
   ]
  },
  {
   "cell_type": "markdown",
   "metadata": {},
   "source": [
    "6. Is there any correlation between Apple device users and churned/un-churned customers?"
   ]
  },
  {
   "cell_type": "code",
   "execution_count": 105,
   "metadata": {},
   "outputs": [],
   "source": [
    "#Get a counts for churned vs unchurned for Apple vs nonApple \n",
    "\n",
    "df_IsApple = spark.sql('''Select  A.IsApple , count(*) Count , 'Unchurned'\n",
    "                      FROM df_data A\n",
    "                      join (SELECT distinct UserId  , sum( IsChurn)\n",
    "                            from  df_data\n",
    "                            group by UserId \n",
    "                            having sum(IsChurn) = 0) E\n",
    "                        On A.UserId = E.UserId \n",
    "            Group by A.IsApple\n",
    "            \n",
    "            Union \n",
    "            \n",
    "            Select  A.IsApple , count(*) Count , 'Churned'\n",
    "                      FROM df_data A\n",
    "                      join (SELECT distinct UserId  , sum( IsChurn)\n",
    "                            from  df_data\n",
    "                            group by UserId \n",
    "                            having sum(IsChurn) > 0) E\n",
    "                        On A.UserId = E.UserId \n",
    "            Group by A.IsApple \n",
    "            Order by IsApple''').toPandas()\n",
    "\n",
    "#Get total counts for Apple vs Non Apple\n",
    "\n",
    "df_IsApple_totals = spark.sql(''' select IsApple , count(*) Total_Counts \n",
    "                                  FROM df_data\n",
    "                                  Group by IsApple  ''').toPandas()\n",
    "\n",
    "# Merge above datasets\n",
    "df_IsApple = pd.merge(df_IsApple , df_IsApple_totals , how = 'inner' , on = 'IsApple')\n",
    "# Get averages for each group\n",
    "df_IsApple['Avgerage'] = df_IsApple['Count']  / df_IsApple['Total_Counts']\n",
    "#Rename IsApple column\n",
    "df_IsApple.loc[df_IsApple['IsApple'] == 0 , 'IsApple'] = 'Non-Apple Device'\n",
    "df_IsApple.loc[df_IsApple['IsApple'] == 1 , 'IsApple'] = 'Apple Device'\n",
    "#Round average\n",
    "df_IsApple['Avgerage (%)'] = (df_IsApple['Avgerage'] * 100).round(3)\n",
    "#Rename unchurned column\n",
    "df_IsApple.rename(columns = {'Unchurned':'IsChurned' , 'IsApple':'Device'} , inplace = True)"
   ]
  },
  {
   "cell_type": "code",
   "execution_count": 106,
   "metadata": {},
   "outputs": [
    {
     "data": {
      "image/png": "[encoded data removed]",
      "text/plain": [
       "<Figure size 1170x827 with 1 Axes>"
      ]
     },
     "metadata": {},
     "output_type": "display_data"
    }
   ],
   "source": [
    "#Plot the data\n",
    "sns.set(rc={'figure.figsize':(11.7,8.27)})\n",
    "chart = sns.barplot(x ='IsChurned', y ='Avgerage (%)', hue = 'Device' , data = df_IsApple, palette ='plasma');\n",
    "chart.set_xticklabels(chart.get_xticklabels(), horizontalalignment='right')\n",
    "chart.set(xlabel=None)\n",
    "plt.show()"
   ]
  },
  {
   "cell_type": "markdown",
   "metadata": {},
   "source": [
    "<b> Aswer </b> On average, non-Apple device users make up most of the churned customers. Same idea holds true for un-churned side where Apple device users hold a higher percentage."
   ]
  },
  {
   "cell_type": "markdown",
   "metadata": {},
   "source": [
    "#### **Section 3** : Feature Engineering"
   ]
  },
  {
   "cell_type": "markdown",
   "metadata": {},
   "source": [
    "- Create new features from raw dataset "
   ]
  },
  {
   "cell_type": "code",
   "execution_count": 107,
   "metadata": {},
   "outputs": [],
   "source": [
    "#Create a udf function which will be applied on the State column\n",
    "#Get top state\n",
    "top_state = ' '.join(list(df_location_artist['State'])[:1])\n",
    "\n",
    "#If name is same as the top state than top state else 'other state'\n",
    "def  determine_state(col_value ):\n",
    "    if col_value == top_state:\n",
    "        return top_state\n",
    "    else:\n",
    "        return \"other_state\"\n",
    "\n",
    "udf_determine_state = udf(determine_state, StringType())\n",
    "df_data = df_data.withColumn('State_', udf_determine_state(col('State')  ) )\n",
    "df_data.createOrReplaceTempView(\"df_data\") "
   ]
  },
  {
   "cell_type": "code",
   "execution_count": 108,
   "metadata": {},
   "outputs": [
    {
     "name": "stdout",
     "output_type": "stream",
     "text": [
      "(225, 23)\n"
     ]
    }
   ],
   "source": [
    "#Get aggreagations on length, IsChurn, song, artist, IsApple and days from registration columns\n",
    "df_numerical = df_data.groupBy(\"userId\") \\\n",
    "                         .agg(avg(\"length\").alias(\"avg_session_length\"), \\\n",
    "                              sum(\"length\").alias(\"sum_session_length\"), \\\n",
    "                              max(\"length\").alias(\"max_session_length\") , \\\n",
    "                              stddev(\"length\").alias(\"stdev_session_length\"), \\\n",
    "                              min(\"length\").alias(\"min_session_length\") , \\\n",
    "                              max(\"IsChurn\").alias(\"churn\") , \\\n",
    "                              countDistinct(\"song\").alias(\"distinct_song\") ,\\\n",
    "                              countDistinct(\"artist\").alias(\"distinct_artist\") ,\\\n",
    "                              max(\"IsApple\").alias(\"apple_device_user\") ,\\\n",
    "                              max(\"Days_From_Registration\").alias(\"max_days_from_registration\") ,\\\n",
    "                              min(\"Days_From_Registration\").alias(\"min_days_from_registration\")  ,\\\n",
    "                              avg(\"Days_From_Registration\").alias(\"avg_days_from_registration\"))\n",
    "\n",
    "#Get dummies for page column\n",
    "df_data = df_data.groupBy(df_data.columns).pivot('page').agg(F.count('*')).fillna(0)\n",
    "#Get dummies for level column\n",
    "df_data = df_data.groupBy(df_data.columns).pivot('level').agg(F.count('*')).fillna(0)\n",
    "#Get dummies for state column\n",
    "df_data = df_data.groupBy(df_data.columns).pivot('State_').agg(F.count('*')).fillna(0)\n",
    "\n",
    "#Delete rows pertaining to December month since they appear to be outliers.\n",
    "df_data = df_data.filter(~(df_data.month == 12))\n",
    "\n",
    "#Get aggreagations on categorical features\n",
    "df_categorical = df_data.groupBy(\"userId\") \\\n",
    "                         .agg( sum(\"NextSong\").alias(\"sum_next_song\") ,\\\n",
    "                               sum(\"Thumbs Up\").alias(\"sum_thumbs_up\") ,\\\n",
    "                               sum(\"Home\").alias(\"sum_home\") ,\\\n",
    "                               sum(\"Add to Playlist\").alias(\"sum_add_to_playlist\") ,\\\n",
    "                               sum(\"Add Friend\").alias(\"sum_add_friend\") ,\\\n",
    "                               sum(\"Roll Advert\").alias(\"sum_roll_advert\") ,\\\n",
    "                               sum(\"Logout\").alias(\"sum_logout\") ,\\\n",
    "                               sum(\"Thumbs Down\").alias(\"sum_thumbs_down\") ,\\\n",
    "                               sum(\"Downgrade\").alias(\"sum_downgrade\") ,\\\n",
    "                               sum(\"CA\").alias(\"sum_ca\") )\n",
    "\n",
    "#Perform join between two datasets\n",
    "df_joined = df_categorical.join(df_numerical, on = 'userId')  \n",
    "\n",
    "#Get number of rows and columns for the dataset that will be used for ML\n",
    "print((df_joined.count(), len(df_joined.columns)))"
   ]
  },
  {
   "cell_type": "code",
   "execution_count": 109,
   "metadata": {},
   "outputs": [
    {
     "data": {
      "text/html": [
       "<div>\n",
       "<style scoped>\n",
       "    .dataframe tbody tr th:only-of-type {\n",
       "        vertical-align: middle;\n",
       "    }\n",
       "\n",
       "    .dataframe tbody tr th {\n",
       "        vertical-align: top;\n",
       "    }\n",
       "\n",
       "    .dataframe thead th {\n",
       "        text-align: right;\n",
       "    }\n",
       "</style>\n",
       "<table border=\"1\" class=\"dataframe\">\n",
       "  <thead>\n",
       "    <tr style=\"text-align: right;\">\n",
       "      <th></th>\n",
       "      <th>userId</th>\n",
       "      <th>sum_next_song</th>\n",
       "      <th>sum_thumbs_up</th>\n",
       "      <th>sum_home</th>\n",
       "      <th>sum_add_to_playlist</th>\n",
       "      <th>sum_add_friend</th>\n",
       "      <th>sum_roll_advert</th>\n",
       "      <th>sum_logout</th>\n",
       "      <th>sum_thumbs_down</th>\n",
       "      <th>sum_downgrade</th>\n",
       "      <th>sum_ca</th>\n",
       "      <th>avg_session_length</th>\n",
       "      <th>sum_session_length</th>\n",
       "      <th>max_session_length</th>\n",
       "      <th>stdev_session_length</th>\n",
       "      <th>min_session_length</th>\n",
       "      <th>churn</th>\n",
       "      <th>distinct_song</th>\n",
       "      <th>distinct_artist</th>\n",
       "      <th>apple_device_user</th>\n",
       "      <th>max_days_from_registration</th>\n",
       "      <th>min_days_from_registration</th>\n",
       "      <th>avg_days_from_registration</th>\n",
       "    </tr>\n",
       "  </thead>\n",
       "  <tbody>\n",
       "    <tr>\n",
       "      <th>0</th>\n",
       "      <td>200002</td>\n",
       "      <td>387</td>\n",
       "      <td>21</td>\n",
       "      <td>20</td>\n",
       "      <td>8</td>\n",
       "      <td>4</td>\n",
       "      <td>7</td>\n",
       "      <td>5</td>\n",
       "      <td>6</td>\n",
       "      <td>5</td>\n",
       "      <td>0</td>\n",
       "      <td>242.916992</td>\n",
       "      <td>94008.87594</td>\n",
       "      <td>592.06485</td>\n",
       "      <td>75.447490</td>\n",
       "      <td>26.56608</td>\n",
       "      <td>0</td>\n",
       "      <td>378</td>\n",
       "      <td>339</td>\n",
       "      <td>1</td>\n",
       "      <td>70</td>\n",
       "      <td>25</td>\n",
       "      <td>49.698312</td>\n",
       "    </tr>\n",
       "    <tr>\n",
       "      <th>1</th>\n",
       "      <td>100010</td>\n",
       "      <td>275</td>\n",
       "      <td>17</td>\n",
       "      <td>11</td>\n",
       "      <td>7</td>\n",
       "      <td>4</td>\n",
       "      <td>52</td>\n",
       "      <td>5</td>\n",
       "      <td>5</td>\n",
       "      <td>0</td>\n",
       "      <td>0</td>\n",
       "      <td>243.421445</td>\n",
       "      <td>66940.89735</td>\n",
       "      <td>538.85342</td>\n",
       "      <td>79.515654</td>\n",
       "      <td>52.27057</td>\n",
       "      <td>0</td>\n",
       "      <td>269</td>\n",
       "      <td>252</td>\n",
       "      <td>1</td>\n",
       "      <td>56</td>\n",
       "      <td>12</td>\n",
       "      <td>33.611549</td>\n",
       "    </tr>\n",
       "    <tr>\n",
       "      <th>2</th>\n",
       "      <td>125</td>\n",
       "      <td>8</td>\n",
       "      <td>0</td>\n",
       "      <td>0</td>\n",
       "      <td>0</td>\n",
       "      <td>0</td>\n",
       "      <td>1</td>\n",
       "      <td>0</td>\n",
       "      <td>0</td>\n",
       "      <td>0</td>\n",
       "      <td>0</td>\n",
       "      <td>261.139138</td>\n",
       "      <td>2089.11310</td>\n",
       "      <td>391.26159</td>\n",
       "      <td>78.111065</td>\n",
       "      <td>178.41587</td>\n",
       "      <td>1</td>\n",
       "      <td>8</td>\n",
       "      <td>8</td>\n",
       "      <td>1</td>\n",
       "      <td>72</td>\n",
       "      <td>72</td>\n",
       "      <td>72.000000</td>\n",
       "    </tr>\n",
       "  </tbody>\n",
       "</table>\n",
       "</div>"
      ],
      "text/plain": [
       "   userId  sum_next_song  sum_thumbs_up  sum_home  sum_add_to_playlist  \\\n",
       "0  200002            387             21        20                    8   \n",
       "1  100010            275             17        11                    7   \n",
       "2     125              8              0         0                    0   \n",
       "\n",
       "   sum_add_friend  sum_roll_advert  sum_logout  sum_thumbs_down  \\\n",
       "0               4                7           5                6   \n",
       "1               4               52           5                5   \n",
       "2               0                1           0                0   \n",
       "\n",
       "   sum_downgrade  sum_ca  avg_session_length  sum_session_length  \\\n",
       "0              5       0          242.916992         94008.87594   \n",
       "1              0       0          243.421445         66940.89735   \n",
       "2              0       0          261.139138          2089.11310   \n",
       "\n",
       "   max_session_length  stdev_session_length  min_session_length  churn  \\\n",
       "0           592.06485             75.447490            26.56608      0   \n",
       "1           538.85342             79.515654            52.27057      0   \n",
       "2           391.26159             78.111065           178.41587      1   \n",
       "\n",
       "   distinct_song  distinct_artist  apple_device_user  \\\n",
       "0            378              339                  1   \n",
       "1            269              252                  1   \n",
       "2              8                8                  1   \n",
       "\n",
       "   max_days_from_registration  min_days_from_registration  \\\n",
       "0                          70                          25   \n",
       "1                          56                          12   \n",
       "2                          72                          72   \n",
       "\n",
       "   avg_days_from_registration  \n",
       "0                   49.698312  \n",
       "1                   33.611549  \n",
       "2                   72.000000  "
      ]
     },
     "execution_count": 109,
     "metadata": {},
     "output_type": "execute_result"
    }
   ],
   "source": [
    "#Visualize the newly created dataframe\n",
    "df_joined.toPandas().head(3)  "
   ]
  },
  {
   "cell_type": "markdown",
   "metadata": {},
   "source": [
    "- Prepare the dataset for ML model"
   ]
  },
  {
   "cell_type": "code",
   "execution_count": 113,
   "metadata": {},
   "outputs": [
    {
     "data": {
      "text/html": [
       "<div>\n",
       "<style scoped>\n",
       "    .dataframe tbody tr th:only-of-type {\n",
       "        vertical-align: middle;\n",
       "    }\n",
       "\n",
       "    .dataframe tbody tr th {\n",
       "        vertical-align: top;\n",
       "    }\n",
       "\n",
       "    .dataframe thead th {\n",
       "        text-align: right;\n",
       "    }\n",
       "</style>\n",
       "<table border=\"1\" class=\"dataframe\">\n",
       "  <thead>\n",
       "    <tr style=\"text-align: right;\">\n",
       "      <th></th>\n",
       "      <th>features</th>\n",
       "      <th>label</th>\n",
       "    </tr>\n",
       "  </thead>\n",
       "  <tbody>\n",
       "    <tr>\n",
       "      <th>0</th>\n",
       "      <td>[387.0, 21.0, 20.0, 8.0, 4.0, 7.0, 5.0, 6.0, 5.0, 0.0, 242.91699209302305, 94008.87593999993, 592.06485, 75.447490312729, 26.56608, 378.0, 339.0, 1.0, 70.0, 25.0, 49.69831223628692]</td>\n",
       "      <td>0</td>\n",
       "    </tr>\n",
       "  </tbody>\n",
       "</table>\n",
       "</div>"
      ],
      "text/plain": [
       "                                                                                                                                                                                features  \\\n",
       "0  [387.0, 21.0, 20.0, 8.0, 4.0, 7.0, 5.0, 6.0, 5.0, 0.0, 242.91699209302305, 94008.87593999993, 592.06485, 75.447490312729, 26.56608, 378.0, 339.0, 1.0, 70.0, 25.0, 49.69831223628692]   \n",
       "\n",
       "   label  \n",
       "0      0  "
      ]
     },
     "execution_count": 113,
     "metadata": {},
     "output_type": "execute_result"
    }
   ],
   "source": [
    "#Create a list of predictor columns\n",
    "predictors = []\n",
    "\n",
    "for i in df_joined.columns:\n",
    "    if i not in ('userId','churn'):\n",
    "        predictors.append(i)\n",
    "\n",
    "#Prepare data for ML algorithm by combining columns to a single column\n",
    "vec_assembler = VectorAssembler(inputCols=predictors, outputCol='features')\n",
    "#Apply the assembler to the dataset\n",
    "transf_dataset = vec_assembler.transform(df_joined)\n",
    "#Select only necessary columns\n",
    "transf_dataset = transf_dataset.select(col('features'), col('churn').alias('label'))\n",
    "#Visualize how the transformation looks like\n",
    "transf_dataset.toPandas().head(1)"
   ]
  },
  {
   "cell_type": "code",
   "execution_count": 114,
   "metadata": {},
   "outputs": [
    {
     "data": {
      "text/html": [
       "<div>\n",
       "<style scoped>\n",
       "    .dataframe tbody tr th:only-of-type {\n",
       "        vertical-align: middle;\n",
       "    }\n",
       "\n",
       "    .dataframe tbody tr th {\n",
       "        vertical-align: top;\n",
       "    }\n",
       "\n",
       "    .dataframe thead th {\n",
       "        text-align: right;\n",
       "    }\n",
       "</style>\n",
       "<table border=\"1\" class=\"dataframe\">\n",
       "  <thead>\n",
       "    <tr style=\"text-align: right;\">\n",
       "      <th></th>\n",
       "      <th>features</th>\n",
       "      <th>label</th>\n",
       "    </tr>\n",
       "  </thead>\n",
       "  <tbody>\n",
       "    <tr>\n",
       "      <th>0</th>\n",
       "      <td>[-0.5672662987623749, -0.5312053249990139, -0.524543830614808, -0.6420107780186697, -0.7292340618073144, -0.48630623004932, -0.6084690494437063, -0.4064663105600868, -0.35224034059109965, -0.2493551449895035, -1.0151183296737223, -0.5757135622507943, -0.9089012494704861, -1.0703270859727976, -0.38974864976474966, -0.5798731581380153, -0.5917322151164089, 0.5264710031632484, -0.25962133731226567, -0.40540695265852816, -0.2984405487831303]</td>\n",
       "      <td>0</td>\n",
       "    </tr>\n",
       "  </tbody>\n",
       "</table>\n",
       "</div>"
      ],
      "text/plain": [
       "                                                                                                                                                                                                                                                                                                                                                                                                                                                    features  \\\n",
       "0  [-0.5672662987623749, -0.5312053249990139, -0.524543830614808, -0.6420107780186697, -0.7292340618073144, -0.48630623004932, -0.6084690494437063, -0.4064663105600868, -0.35224034059109965, -0.2493551449895035, -1.0151183296737223, -0.5757135622507943, -0.9089012494704861, -1.0703270859727976, -0.38974864976474966, -0.5798731581380153, -0.5917322151164089, 0.5264710031632484, -0.25962133731226567, -0.40540695265852816, -0.2984405487831303]   \n",
       "\n",
       "   label  \n",
       "0      0  "
      ]
     },
     "execution_count": 114,
     "metadata": {},
     "output_type": "execute_result"
    }
   ],
   "source": [
    "#Create an object from standard scaler\n",
    "scaler = StandardScaler(inputCol='features', outputCol='scaled_features', withMean=True, withStd=True)\n",
    "#Fit the scaler\n",
    "fitted_scaler = scaler.fit(transf_dataset)\n",
    "#Scale the dataset\n",
    "dataset_scaled = fitted_scaler.transform(transf_dataset)\n",
    "\n",
    "transf_dataset = dataset_scaled.select(col('scaled_features').alias('features'), col('label'))\n",
    "#Visualize how the scaled dataset looks like\n",
    "transf_dataset.toPandas().head(1)"
   ]
  },
  {
   "cell_type": "markdown",
   "metadata": {},
   "source": [
    "#### **Section 4** : Modeling"
   ]
  },
  {
   "cell_type": "markdown",
   "metadata": {},
   "source": [
    "7.\tWhich is the best classification model that can predict customer churn?"
   ]
  },
  {
   "cell_type": "code",
   "execution_count": 123,
   "metadata": {},
   "outputs": [
    {
     "name": "stdout",
     "output_type": "stream",
     "text": [
      "Records in training set: 190 ; Records in testing set: 35\n"
     ]
    }
   ],
   "source": [
    "#Split the data into training and test sets\n",
    "train_set, test_set  = transf_dataset.randomSplit([0.8, 0.2], seed=42)\n",
    "#Check the total count in training and testing sets\n",
    "print(f\"Records in training set: {train_set.count()} ; Records in testing set: {test_set.count()}\" )"
   ]
  },
  {
   "cell_type": "markdown",
   "metadata": {},
   "source": [
    "### Random Forest"
   ]
  },
  {
   "cell_type": "code",
   "execution_count": 124,
   "metadata": {},
   "outputs": [],
   "source": [
    "#Create an instance of Random Forest ML\n",
    "rf = RandomForestClassifier(maxBins=5, maxDepth=5,numTrees=5 , seed=41) \n",
    "rf_model = rf.fit(train_set)\n",
    "rf_pred = rf_model.transform(test_set)"
   ]
  },
  {
   "cell_type": "code",
   "execution_count": 125,
   "metadata": {},
   "outputs": [
    {
     "name": "stdout",
     "output_type": "stream",
     "text": [
      "Test set metrics:\n",
      "Accuracy: 0.8285714285714286\n",
      "F-1 Score: 0.7912442396313363\n"
     ]
    }
   ],
   "source": [
    "#Create an instance of evaluator\n",
    "evaluator = MulticlassClassificationEvaluator(predictionCol=\"prediction\")\n",
    "#Get accuracy and f1 score from RF best model\n",
    "accuracy = evaluator.evaluate(rf_pred, {evaluator.metricName: \"accuracy\"})\n",
    "f1_score = evaluator.evaluate(rf_pred, {evaluator.metricName: \"f1\"})\n",
    "print('Test set metrics:')\n",
    "print(f'Accuracy: {accuracy}')\n",
    "print(f'F-1 Score: {f1_score}')"
   ]
  },
  {
   "cell_type": "markdown",
   "metadata": {},
   "source": [
    "### Gradient Boosted Tree Classifier"
   ]
  },
  {
   "cell_type": "code",
   "execution_count": 126,
   "metadata": {},
   "outputs": [],
   "source": [
    "#Create an instance of Gradient Boosted Tree Classifier\n",
    "gbt_final = GBTClassifier(maxDepth=25, maxIter=60 , seed=41) \n",
    "gbt_final_model = gbt_final.fit(train_set)\n",
    "gbt_predictions = gbt_final_model.transform(test_set)"
   ]
  },
  {
   "cell_type": "code",
   "execution_count": 127,
   "metadata": {},
   "outputs": [
    {
     "name": "stdout",
     "output_type": "stream",
     "text": [
      "Test set metrics:\n",
      "Accuracy: 0.7428571428571429\n",
      "F-1 Score: 0.7615584415584415\n"
     ]
    }
   ],
   "source": [
    "#Create an instance of evaluator\n",
    "evaluator = MulticlassClassificationEvaluator(predictionCol=\"prediction\")\n",
    "#Get accuracy and f1 score from RF best model\n",
    "accuracy = evaluator.evaluate(gbt_predictions, {evaluator.metricName: \"accuracy\"})\n",
    "f1_score = evaluator.evaluate(gbt_predictions, {evaluator.metricName: \"f1\"})\n",
    "print('Test set metrics:')\n",
    "print(f'Accuracy: {accuracy}')\n",
    "print(f'F-1 Score: {f1_score}')"
   ]
  },
  {
   "cell_type": "markdown",
   "metadata": {},
   "source": [
    "### Decision Tree Classifier"
   ]
  },
  {
   "cell_type": "code",
   "execution_count": 128,
   "metadata": {},
   "outputs": [],
   "source": [
    "#Create an instance of Decision Tree Classifier\n",
    "dt_final = DecisionTreeClassifier(impurity=\"entropy\", maxDepth = 5 , maxBins = 32) \n",
    "dt_final_model = dt_final.fit(train_set)\n",
    "dt_predictions = dt_final_model.transform(test_set)"
   ]
  },
  {
   "cell_type": "code",
   "execution_count": 129,
   "metadata": {},
   "outputs": [
    {
     "name": "stdout",
     "output_type": "stream",
     "text": [
      "Test set metrics:\n",
      "Accuracy: 0.7428571428571429\n",
      "F-1 Score: 0.7504916136495083\n"
     ]
    }
   ],
   "source": [
    "#Create an instance of evaluator\n",
    "evaluator = MulticlassClassificationEvaluator(predictionCol=\"prediction\")\n",
    "#Get accuracy and f1 score from RF best model\n",
    "accuracy = evaluator.evaluate(dt_predictions, {evaluator.metricName: \"accuracy\"})\n",
    "f1_score = evaluator.evaluate(dt_predictions, {evaluator.metricName: \"f1\"})\n",
    "print('Test set metrics:')\n",
    "print(f'Accuracy: {accuracy}')\n",
    "print(f'F-1 Score: {f1_score}')"
   ]
  },
  {
   "cell_type": "markdown",
   "metadata": {},
   "source": [
    "### Support Vector Machine"
   ]
  },
  {
   "cell_type": "code",
   "execution_count": 130,
   "metadata": {},
   "outputs": [],
   "source": [
    "#Create an instance of K-nearest neighbor\n",
    "svc_final = LinearSVC(maxIter=10, regParam=0.1)\n",
    "svc_final_model = svc_final.fit(train_set)\n",
    "svc_predictions = svc_final_model.transform(test_set)"
   ]
  },
  {
   "cell_type": "code",
   "execution_count": 131,
   "metadata": {},
   "outputs": [
    {
     "name": "stdout",
     "output_type": "stream",
     "text": [
      "Test set metrics:\n",
      "Accuracy: 0.8285714285714286\n",
      "F-1 Score: 0.7508928571428571\n"
     ]
    }
   ],
   "source": [
    "#Create an instance of evaluator\n",
    "evaluator = MulticlassClassificationEvaluator(predictionCol=\"prediction\")\n",
    "#Get accuracy and f1 score from RF best model\n",
    "accuracy = evaluator.evaluate(svc_predictions, {evaluator.metricName: \"accuracy\"})\n",
    "f1_score = evaluator.evaluate(svc_predictions, {evaluator.metricName: \"f1\"})\n",
    "print('Test set metrics:')\n",
    "print(f'Accuracy: {accuracy}')\n",
    "print(f'F-1 Score: {f1_score}')"
   ]
  },
  {
   "cell_type": "markdown",
   "metadata": {},
   "source": [
    "<b> Answer </b> The best model is Random Forest"
   ]
  },
  {
   "cell_type": "markdown",
   "metadata": {},
   "source": [
    "### Hypertune the model"
   ]
  },
  {
   "cell_type": "code",
   "execution_count": null,
   "metadata": {},
   "outputs": [],
   "source": [
    "#Create an object for random forest\n",
    "rf = RandomForestClassifier(labelCol=\"label\", featuresCol=\"features\")\n",
    "\n",
    "#Build a grid with parameters for cross-validation\n",
    "rf_Grid = ParamGridBuilder() \\\n",
    "                  .addGrid(rf.maxDepth, [10 , 15]) \\\n",
    "                  .addGrid(rf.maxBins,  [23 , 25]) \\\n",
    "                  .addGrid(rf.numTrees, [10 , 15]) \\\n",
    "                  .build()\n",
    "\n",
    "#Create a 5-fold CrossValidator\n",
    "rf_cross_valid = CrossValidator(estimator=rf,\n",
    "                          estimatorParamMaps= rf_Grid,\n",
    "                          evaluator= MulticlassClassificationEvaluator(metricName=\"f1\"),\n",
    "                          numFolds=5)\n",
    "#Run cross validations\n",
    "rf_cv = rf_cross_valid.fit(train_set)\n",
    "rf_cv.avgMetrics"
   ]
  },
  {
   "cell_type": "markdown",
   "metadata": {},
   "source": [
    "- Create a list with the set of hyperparameters from cross-validation process"
   ]
  },
  {
   "cell_type": "code",
   "execution_count": null,
   "metadata": {},
   "outputs": [],
   "source": [
    "all_params = []\n",
    "\n",
    "#Loop through all cross-validation parameters and seve them into a list of dictionaries\n",
    "for m in rf_cv.getEstimatorParamMaps():\n",
    "    params_a = {}\n",
    "    for p, v in m.items() :\n",
    "        params_a[p.name] =  v \n",
    "    all_params.append(params_a)"
   ]
  },
  {
   "cell_type": "code",
   "execution_count": null,
   "metadata": {},
   "outputs": [],
   "source": [
    "#Loop through F-values and the list of hyperparameters created by cross-validation and store it in a dictionary\n",
    "df_params = {}\n",
    "\n",
    "for  f_val , cv_i  in  zip( rf_cv.avgMetrics , all_params):\n",
    "       df_params[f_val]  = cv_i\n",
    "\n",
    "#Create a dataframe from the above dictionary\n",
    "df_params = pd.DataFrame.from_dict(df_params).T\n",
    "#Sort the dataframe based on the F-value to get the best model\n",
    "df_params = df_params.reset_index().rename(columns = {'index':'F1-Score'}).sort_values(by=\"F1-Score\" , ascending =  False)\n",
    "df_params"
   ]
  },
  {
   "cell_type": "code",
   "execution_count": null,
   "metadata": {},
   "outputs": [],
   "source": [
    "#Use above parameters to create an instance of random forest\n",
    "rf_final = RandomForestClassifier(maxBins=25, maxDepth=15,numTrees=10 , seed=41)  \n",
    "rf_final_model = rf_final.fit(train_set)\n",
    "rf_predictions = rf_final_model.transform(test_set)"
   ]
  },
  {
   "cell_type": "code",
   "execution_count": null,
   "metadata": {},
   "outputs": [],
   "source": [
    "#Create an instance of evaluator\n",
    "evaluator = MulticlassClassificationEvaluator(predictionCol=\"prediction\")\n",
    "#Get accuracy and f1 score from RF best model\n",
    "accuracy = evaluator.evaluate(rf_predictions, {evaluator.metricName: \"accuracy\"})\n",
    "f1_score = evaluator.evaluate(rf_predictions, {evaluator.metricName: \"f1\"})\n",
    "print('Test set metrics:')\n",
    "print(f'Accuracy: {accuracy}')\n",
    "print(f'F-1 Score: {f1_score}')"
   ]
  },
  {
   "cell_type": "markdown",
   "metadata": {},
   "source": [
    "8.\tWhat features important in the best classification model?"
   ]
  },
  {
   "cell_type": "code",
   "execution_count": null,
   "metadata": {},
   "outputs": [],
   "source": [
    "#Get feature imprance from the model and plot it\n",
    "feature_importance = rf_final_model.featureImportances.values\n",
    "feature_importance = np.sort(feature_importance)\n",
    "y_pos = np.arange(len(predictors))\n",
    "plt.barh(y_pos, feature_importance, align='center')\n",
    "plt.yticks(y_pos, predictors)\n",
    "plt.xlabel('Score')\n",
    "plt.title('Random Forest Feature Importance');"
   ]
  },
  {
   "cell_type": "markdown",
   "metadata": {},
   "source": [
    "<b> Answer </b> As it can be observed, days from registration and apple device user are features with the highest influence in the model."
   ]
  }
 ],
 "metadata": {
  "kernelspec": {
   "display_name": "Python 3.10.8 64-bit (microsoft store)",
   "language": "python",
   "name": "python3"
  },
  "language_info": {
   "codemirror_mode": {
    "name": "ipython",
    "version": 3
   },
   "file_extension": ".py",
   "mimetype": "text/x-python",
   "name": "python",
   "nbconvert_exporter": "python",
   "pygments_lexer": "ipython3",
   "version": "3.10.9"
  },
  "vscode": {
   "interpreter": {
    "hash": "7b6b03c61710d6d46e38bd4597d25f71c22917e2f13d9642d9fd6436a832c2e0"
   }
  }
 },
 "nbformat": 4,
 "nbformat_minor": 2
}
